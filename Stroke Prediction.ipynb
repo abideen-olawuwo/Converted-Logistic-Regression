{
 "cells": [
  {
   "cell_type": "markdown",
   "id": "79229b2b",
   "metadata": {},
   "source": [
    "# Predicting Stroke using machine learning"
   ]
  },
  {
   "cell_type": "code",
   "execution_count": 1,
   "id": "bb1e338c",
   "metadata": {},
   "outputs": [],
   "source": [
    "# Import all the tools we need\n",
    "\n",
    "# Regular EDA (exploratory data analysis) and plotting libraries\n",
    "import numpy as np\n",
    "import pandas as pd\n",
    "import matplotlib.pyplot as plt\n",
    "import seaborn as sns\n",
    "\n",
    "# we want our plots to appear inside the notebook\n",
    "%matplotlib inline \n",
    "\n",
    "# Models from Scikit-Learn\n",
    "from sklearn.linear_model import LogisticRegression\n",
    "from sklearn.neighbors import KNeighborsClassifier\n",
    "from sklearn.ensemble import RandomForestClassifier\n",
    "from sklearn.tree import DecisionTreeClassifier \n",
    "from sklearn.ensemble import AdaBoostClassifier \n",
    "from xgboost import XGBClassifier \n",
    "from catboost import CatBoostClassifier, Pool, metrics, cv\n",
    "\n",
    "\n",
    "# Model Evaluations\n",
    "from sklearn.model_selection import train_test_split, cross_val_score\n",
    "from sklearn.model_selection import RandomizedSearchCV, GridSearchCV\n",
    "from sklearn.metrics import confusion_matrix, classification_report\n",
    "from sklearn.metrics import precision_score, recall_score, f1_score\n",
    "from sklearn.metrics import plot_roc_curve"
   ]
  },
  {
   "cell_type": "code",
   "execution_count": 2,
   "id": "fcc83261",
   "metadata": {},
   "outputs": [
    {
     "data": {
      "text/plain": [
       "(5110, 12)"
      ]
     },
     "execution_count": 2,
     "metadata": {},
     "output_type": "execute_result"
    }
   ],
   "source": [
    "df = pd.read_csv(\"healthcare-dataset-stroke-data.csv\")\n",
    "df.shape "
   ]
  },
  {
   "cell_type": "code",
   "execution_count": 3,
   "id": "539f6502",
   "metadata": {},
   "outputs": [
    {
     "data": {
      "text/html": [
       "<div>\n",
       "<style scoped>\n",
       "    .dataframe tbody tr th:only-of-type {\n",
       "        vertical-align: middle;\n",
       "    }\n",
       "\n",
       "    .dataframe tbody tr th {\n",
       "        vertical-align: top;\n",
       "    }\n",
       "\n",
       "    .dataframe thead th {\n",
       "        text-align: right;\n",
       "    }\n",
       "</style>\n",
       "<table border=\"1\" class=\"dataframe\">\n",
       "  <thead>\n",
       "    <tr style=\"text-align: right;\">\n",
       "      <th></th>\n",
       "      <th>id</th>\n",
       "      <th>gender</th>\n",
       "      <th>age</th>\n",
       "      <th>hypertension</th>\n",
       "      <th>heart_disease</th>\n",
       "      <th>ever_married</th>\n",
       "      <th>work_type</th>\n",
       "      <th>Residence_type</th>\n",
       "      <th>avg_glucose_level</th>\n",
       "      <th>bmi</th>\n",
       "      <th>smoking_status</th>\n",
       "      <th>stroke</th>\n",
       "    </tr>\n",
       "  </thead>\n",
       "  <tbody>\n",
       "    <tr>\n",
       "      <th>0</th>\n",
       "      <td>9046</td>\n",
       "      <td>Male</td>\n",
       "      <td>67.0</td>\n",
       "      <td>0</td>\n",
       "      <td>1</td>\n",
       "      <td>Yes</td>\n",
       "      <td>Private</td>\n",
       "      <td>Urban</td>\n",
       "      <td>228.69</td>\n",
       "      <td>36.6</td>\n",
       "      <td>formerly smoked</td>\n",
       "      <td>1</td>\n",
       "    </tr>\n",
       "    <tr>\n",
       "      <th>1</th>\n",
       "      <td>51676</td>\n",
       "      <td>Female</td>\n",
       "      <td>61.0</td>\n",
       "      <td>0</td>\n",
       "      <td>0</td>\n",
       "      <td>Yes</td>\n",
       "      <td>Self-employed</td>\n",
       "      <td>Rural</td>\n",
       "      <td>202.21</td>\n",
       "      <td>NaN</td>\n",
       "      <td>never smoked</td>\n",
       "      <td>1</td>\n",
       "    </tr>\n",
       "    <tr>\n",
       "      <th>2</th>\n",
       "      <td>31112</td>\n",
       "      <td>Male</td>\n",
       "      <td>80.0</td>\n",
       "      <td>0</td>\n",
       "      <td>1</td>\n",
       "      <td>Yes</td>\n",
       "      <td>Private</td>\n",
       "      <td>Rural</td>\n",
       "      <td>105.92</td>\n",
       "      <td>32.5</td>\n",
       "      <td>never smoked</td>\n",
       "      <td>1</td>\n",
       "    </tr>\n",
       "    <tr>\n",
       "      <th>3</th>\n",
       "      <td>60182</td>\n",
       "      <td>Female</td>\n",
       "      <td>49.0</td>\n",
       "      <td>0</td>\n",
       "      <td>0</td>\n",
       "      <td>Yes</td>\n",
       "      <td>Private</td>\n",
       "      <td>Urban</td>\n",
       "      <td>171.23</td>\n",
       "      <td>34.4</td>\n",
       "      <td>smokes</td>\n",
       "      <td>1</td>\n",
       "    </tr>\n",
       "    <tr>\n",
       "      <th>4</th>\n",
       "      <td>1665</td>\n",
       "      <td>Female</td>\n",
       "      <td>79.0</td>\n",
       "      <td>1</td>\n",
       "      <td>0</td>\n",
       "      <td>Yes</td>\n",
       "      <td>Self-employed</td>\n",
       "      <td>Rural</td>\n",
       "      <td>174.12</td>\n",
       "      <td>24.0</td>\n",
       "      <td>never smoked</td>\n",
       "      <td>1</td>\n",
       "    </tr>\n",
       "  </tbody>\n",
       "</table>\n",
       "</div>"
      ],
      "text/plain": [
       "      id  gender   age  hypertension  heart_disease ever_married  \\\n",
       "0   9046    Male  67.0             0              1          Yes   \n",
       "1  51676  Female  61.0             0              0          Yes   \n",
       "2  31112    Male  80.0             0              1          Yes   \n",
       "3  60182  Female  49.0             0              0          Yes   \n",
       "4   1665  Female  79.0             1              0          Yes   \n",
       "\n",
       "       work_type Residence_type  avg_glucose_level   bmi   smoking_status  \\\n",
       "0        Private          Urban             228.69  36.6  formerly smoked   \n",
       "1  Self-employed          Rural             202.21   NaN     never smoked   \n",
       "2        Private          Rural             105.92  32.5     never smoked   \n",
       "3        Private          Urban             171.23  34.4           smokes   \n",
       "4  Self-employed          Rural             174.12  24.0     never smoked   \n",
       "\n",
       "   stroke  \n",
       "0       1  \n",
       "1       1  \n",
       "2       1  \n",
       "3       1  \n",
       "4       1  "
      ]
     },
     "execution_count": 3,
     "metadata": {},
     "output_type": "execute_result"
    }
   ],
   "source": [
    "df.head()"
   ]
  },
  {
   "cell_type": "code",
   "execution_count": 4,
   "id": "c2b4ec6a",
   "metadata": {},
   "outputs": [
    {
     "data": {
      "text/plain": [
       "0    4861\n",
       "1     249\n",
       "Name: stroke, dtype: int64"
      ]
     },
     "execution_count": 4,
     "metadata": {},
     "output_type": "execute_result"
    }
   ],
   "source": [
    "# Let's find out how many of each class there\n",
    "df[\"stroke\"].value_counts()"
   ]
  },
  {
   "cell_type": "code",
   "execution_count": 5,
   "id": "b1da5d9d",
   "metadata": {},
   "outputs": [
    {
     "data": {
      "image/png": "[encoded data removed]",
      "text/plain": [
       "<Figure size 432x288 with 1 Axes>"
      ]
     },
     "metadata": {
      "needs_background": "light"
     },
     "output_type": "display_data"
    }
   ],
   "source": [
    "df[\"stroke\"].value_counts().plot(kind=\"bar\", color=[\"salmon\", \"lightblue\"]);"
   ]
  },
  {
   "cell_type": "code",
   "execution_count": 6,
   "id": "5df95389",
   "metadata": {},
   "outputs": [
    {
     "name": "stdout",
     "output_type": "stream",
     "text": [
      "<class 'pandas.core.frame.DataFrame'>\n",
      "RangeIndex: 5110 entries, 0 to 5109\n",
      "Data columns (total 12 columns):\n",
      " #   Column             Non-Null Count  Dtype  \n",
      "---  ------             --------------  -----  \n",
      " 0   id                 5110 non-null   int64  \n",
      " 1   gender             5110 non-null   object \n",
      " 2   age                5110 non-null   float64\n",
      " 3   hypertension       5110 non-null   int64  \n",
      " 4   heart_disease      5110 non-null   int64  \n",
      " 5   ever_married       5110 non-null   object \n",
      " 6   work_type          5110 non-null   object \n",
      " 7   Residence_type     5110 non-null   object \n",
      " 8   avg_glucose_level  5110 non-null   float64\n",
      " 9   bmi                4909 non-null   float64\n",
      " 10  smoking_status     5110 non-null   object \n",
      " 11  stroke             5110 non-null   int64  \n",
      "dtypes: float64(3), int64(4), object(5)\n",
      "memory usage: 479.2+ KB\n"
     ]
    }
   ],
   "source": [
    "df.info()"
   ]
  },
  {
   "cell_type": "code",
   "execution_count": 7,
   "id": "a5543683",
   "metadata": {},
   "outputs": [
    {
     "data": {
      "text/plain": [
       "id                     0\n",
       "gender                 0\n",
       "age                    0\n",
       "hypertension           0\n",
       "heart_disease          0\n",
       "ever_married           0\n",
       "work_type              0\n",
       "Residence_type         0\n",
       "avg_glucose_level      0\n",
       "bmi                  201\n",
       "smoking_status         0\n",
       "stroke                 0\n",
       "dtype: int64"
      ]
     },
     "execution_count": 7,
     "metadata": {},
     "output_type": "execute_result"
    }
   ],
   "source": [
    "df.isna().sum()"
   ]
  },
  {
   "cell_type": "code",
   "execution_count": 8,
   "id": "8b97e581",
   "metadata": {},
   "outputs": [],
   "source": [
    "# Fill the Missing column\n",
    "df[\"bmi\"].fillna(df[\"bmi\"].mean(),inplace=True)"
   ]
  },
  {
   "cell_type": "code",
   "execution_count": 9,
   "id": "a05e5926",
   "metadata": {},
   "outputs": [
    {
     "data": {
      "text/plain": [
       "id                   0\n",
       "gender               0\n",
       "age                  0\n",
       "hypertension         0\n",
       "heart_disease        0\n",
       "ever_married         0\n",
       "work_type            0\n",
       "Residence_type       0\n",
       "avg_glucose_level    0\n",
       "bmi                  0\n",
       "smoking_status       0\n",
       "stroke               0\n",
       "dtype: int64"
      ]
     },
     "execution_count": 9,
     "metadata": {},
     "output_type": "execute_result"
    }
   ],
   "source": [
    "df.isnull().sum()"
   ]
  },
  {
   "cell_type": "code",
   "execution_count": 10,
   "id": "d2ee332e",
   "metadata": {},
   "outputs": [
    {
     "data": {
      "text/html": [
       "<div>\n",
       "<style scoped>\n",
       "    .dataframe tbody tr th:only-of-type {\n",
       "        vertical-align: middle;\n",
       "    }\n",
       "\n",
       "    .dataframe tbody tr th {\n",
       "        vertical-align: top;\n",
       "    }\n",
       "\n",
       "    .dataframe thead th {\n",
       "        text-align: right;\n",
       "    }\n",
       "</style>\n",
       "<table border=\"1\" class=\"dataframe\">\n",
       "  <thead>\n",
       "    <tr style=\"text-align: right;\">\n",
       "      <th></th>\n",
       "      <th>id</th>\n",
       "      <th>age</th>\n",
       "      <th>hypertension</th>\n",
       "      <th>heart_disease</th>\n",
       "      <th>avg_glucose_level</th>\n",
       "      <th>bmi</th>\n",
       "      <th>stroke</th>\n",
       "    </tr>\n",
       "  </thead>\n",
       "  <tbody>\n",
       "    <tr>\n",
       "      <th>count</th>\n",
       "      <td>5110.000000</td>\n",
       "      <td>5110.000000</td>\n",
       "      <td>5110.000000</td>\n",
       "      <td>5110.000000</td>\n",
       "      <td>5110.000000</td>\n",
       "      <td>5110.000000</td>\n",
       "      <td>5110.000000</td>\n",
       "    </tr>\n",
       "    <tr>\n",
       "      <th>mean</th>\n",
       "      <td>36517.829354</td>\n",
       "      <td>43.226614</td>\n",
       "      <td>0.097456</td>\n",
       "      <td>0.054012</td>\n",
       "      <td>106.147677</td>\n",
       "      <td>28.893237</td>\n",
       "      <td>0.048728</td>\n",
       "    </tr>\n",
       "    <tr>\n",
       "      <th>std</th>\n",
       "      <td>21161.721625</td>\n",
       "      <td>22.612647</td>\n",
       "      <td>0.296607</td>\n",
       "      <td>0.226063</td>\n",
       "      <td>45.283560</td>\n",
       "      <td>7.698018</td>\n",
       "      <td>0.215320</td>\n",
       "    </tr>\n",
       "    <tr>\n",
       "      <th>min</th>\n",
       "      <td>67.000000</td>\n",
       "      <td>0.080000</td>\n",
       "      <td>0.000000</td>\n",
       "      <td>0.000000</td>\n",
       "      <td>55.120000</td>\n",
       "      <td>10.300000</td>\n",
       "      <td>0.000000</td>\n",
       "    </tr>\n",
       "    <tr>\n",
       "      <th>25%</th>\n",
       "      <td>17741.250000</td>\n",
       "      <td>25.000000</td>\n",
       "      <td>0.000000</td>\n",
       "      <td>0.000000</td>\n",
       "      <td>77.245000</td>\n",
       "      <td>23.800000</td>\n",
       "      <td>0.000000</td>\n",
       "    </tr>\n",
       "    <tr>\n",
       "      <th>50%</th>\n",
       "      <td>36932.000000</td>\n",
       "      <td>45.000000</td>\n",
       "      <td>0.000000</td>\n",
       "      <td>0.000000</td>\n",
       "      <td>91.885000</td>\n",
       "      <td>28.400000</td>\n",
       "      <td>0.000000</td>\n",
       "    </tr>\n",
       "    <tr>\n",
       "      <th>75%</th>\n",
       "      <td>54682.000000</td>\n",
       "      <td>61.000000</td>\n",
       "      <td>0.000000</td>\n",
       "      <td>0.000000</td>\n",
       "      <td>114.090000</td>\n",
       "      <td>32.800000</td>\n",
       "      <td>0.000000</td>\n",
       "    </tr>\n",
       "    <tr>\n",
       "      <th>max</th>\n",
       "      <td>72940.000000</td>\n",
       "      <td>82.000000</td>\n",
       "      <td>1.000000</td>\n",
       "      <td>1.000000</td>\n",
       "      <td>271.740000</td>\n",
       "      <td>97.600000</td>\n",
       "      <td>1.000000</td>\n",
       "    </tr>\n",
       "  </tbody>\n",
       "</table>\n",
       "</div>"
      ],
      "text/plain": [
       "                 id          age  hypertension  heart_disease  \\\n",
       "count   5110.000000  5110.000000   5110.000000    5110.000000   \n",
       "mean   36517.829354    43.226614      0.097456       0.054012   \n",
       "std    21161.721625    22.612647      0.296607       0.226063   \n",
       "min       67.000000     0.080000      0.000000       0.000000   \n",
       "25%    17741.250000    25.000000      0.000000       0.000000   \n",
       "50%    36932.000000    45.000000      0.000000       0.000000   \n",
       "75%    54682.000000    61.000000      0.000000       0.000000   \n",
       "max    72940.000000    82.000000      1.000000       1.000000   \n",
       "\n",
       "       avg_glucose_level          bmi       stroke  \n",
       "count        5110.000000  5110.000000  5110.000000  \n",
       "mean          106.147677    28.893237     0.048728  \n",
       "std            45.283560     7.698018     0.215320  \n",
       "min            55.120000    10.300000     0.000000  \n",
       "25%            77.245000    23.800000     0.000000  \n",
       "50%            91.885000    28.400000     0.000000  \n",
       "75%           114.090000    32.800000     0.000000  \n",
       "max           271.740000    97.600000     1.000000  "
      ]
     },
     "execution_count": 10,
     "metadata": {},
     "output_type": "execute_result"
    }
   ],
   "source": [
    "df.describe()"
   ]
  },
  {
   "cell_type": "markdown",
   "id": "61eb1c46",
   "metadata": {},
   "source": [
    "## Stroke Frequency According to Sex"
   ]
  },
  {
   "cell_type": "code",
   "execution_count": 11,
   "id": "e4d46b97",
   "metadata": {},
   "outputs": [
    {
     "data": {
      "text/plain": [
       "Female    2994\n",
       "Male      2115\n",
       "Other        1\n",
       "Name: gender, dtype: int64"
      ]
     },
     "execution_count": 11,
     "metadata": {},
     "output_type": "execute_result"
    }
   ],
   "source": [
    "df.gender.value_counts()"
   ]
  },
  {
   "cell_type": "code",
   "execution_count": 12,
   "id": "ebba4ffe",
   "metadata": {},
   "outputs": [
    {
     "data": {
      "text/html": [
       "<div>\n",
       "<style scoped>\n",
       "    .dataframe tbody tr th:only-of-type {\n",
       "        vertical-align: middle;\n",
       "    }\n",
       "\n",
       "    .dataframe tbody tr th {\n",
       "        vertical-align: top;\n",
       "    }\n",
       "\n",
       "    .dataframe thead th {\n",
       "        text-align: right;\n",
       "    }\n",
       "</style>\n",
       "<table border=\"1\" class=\"dataframe\">\n",
       "  <thead>\n",
       "    <tr style=\"text-align: right;\">\n",
       "      <th>gender</th>\n",
       "      <th>Female</th>\n",
       "      <th>Male</th>\n",
       "      <th>Other</th>\n",
       "    </tr>\n",
       "    <tr>\n",
       "      <th>stroke</th>\n",
       "      <th></th>\n",
       "      <th></th>\n",
       "      <th></th>\n",
       "    </tr>\n",
       "  </thead>\n",
       "  <tbody>\n",
       "    <tr>\n",
       "      <th>0</th>\n",
       "      <td>2853</td>\n",
       "      <td>2007</td>\n",
       "      <td>1</td>\n",
       "    </tr>\n",
       "    <tr>\n",
       "      <th>1</th>\n",
       "      <td>141</td>\n",
       "      <td>108</td>\n",
       "      <td>0</td>\n",
       "    </tr>\n",
       "  </tbody>\n",
       "</table>\n",
       "</div>"
      ],
      "text/plain": [
       "gender  Female  Male  Other\n",
       "stroke                     \n",
       "0         2853  2007      1\n",
       "1          141   108      0"
      ]
     },
     "execution_count": 12,
     "metadata": {},
     "output_type": "execute_result"
    }
   ],
   "source": [
    "# Compare target column with sex column\n",
    "pd.crosstab(df.stroke, df.gender)"
   ]
  },
  {
   "cell_type": "code",
   "execution_count": 13,
   "id": "b7573bb4",
   "metadata": {},
   "outputs": [
    {
     "data": {
      "image/png": "[encoded data removed]",
      "text/plain": [
       "<Figure size 720x432 with 1 Axes>"
      ]
     },
     "metadata": {
      "needs_background": "light"
     },
     "output_type": "display_data"
    }
   ],
   "source": [
    "# Create a plot of crosstab\n",
    "pd.crosstab(df.stroke, df.gender).plot(kind=\"bar\",\n",
    "                                    figsize=(10, 6),\n",
    "                                    color=[\"salmon\", \"lightblue\"])\n",
    "\n",
    "plt.title(\"Stroke Frequency for Gender\")\n",
    "plt.xlabel(\"0 = No Disease, 1 = Disease\")\n",
    "plt.ylabel(\"Amount\")\n",
    "plt.legend([\"Female\", \"Male\"]);\n",
    "plt.xticks(rotation=0);"
   ]
  },
  {
   "cell_type": "code",
   "execution_count": 14,
   "id": "97367c2e",
   "metadata": {},
   "outputs": [
    {
     "data": {
      "text/html": [
       "<div>\n",
       "<style scoped>\n",
       "    .dataframe tbody tr th:only-of-type {\n",
       "        vertical-align: middle;\n",
       "    }\n",
       "\n",
       "    .dataframe tbody tr th {\n",
       "        vertical-align: top;\n",
       "    }\n",
       "\n",
       "    .dataframe thead th {\n",
       "        text-align: right;\n",
       "    }\n",
       "</style>\n",
       "<table border=\"1\" class=\"dataframe\">\n",
       "  <thead>\n",
       "    <tr style=\"text-align: right;\">\n",
       "      <th></th>\n",
       "      <th>id</th>\n",
       "      <th>age</th>\n",
       "      <th>hypertension</th>\n",
       "      <th>heart_disease</th>\n",
       "      <th>avg_glucose_level</th>\n",
       "      <th>bmi</th>\n",
       "      <th>stroke</th>\n",
       "    </tr>\n",
       "  </thead>\n",
       "  <tbody>\n",
       "    <tr>\n",
       "      <th>id</th>\n",
       "      <td>1.000000</td>\n",
       "      <td>0.003538</td>\n",
       "      <td>0.003550</td>\n",
       "      <td>-0.001296</td>\n",
       "      <td>0.001092</td>\n",
       "      <td>0.002999</td>\n",
       "      <td>0.006388</td>\n",
       "    </tr>\n",
       "    <tr>\n",
       "      <th>age</th>\n",
       "      <td>0.003538</td>\n",
       "      <td>1.000000</td>\n",
       "      <td>0.276398</td>\n",
       "      <td>0.263796</td>\n",
       "      <td>0.238171</td>\n",
       "      <td>0.325942</td>\n",
       "      <td>0.245257</td>\n",
       "    </tr>\n",
       "    <tr>\n",
       "      <th>hypertension</th>\n",
       "      <td>0.003550</td>\n",
       "      <td>0.276398</td>\n",
       "      <td>1.000000</td>\n",
       "      <td>0.108306</td>\n",
       "      <td>0.174474</td>\n",
       "      <td>0.160189</td>\n",
       "      <td>0.127904</td>\n",
       "    </tr>\n",
       "    <tr>\n",
       "      <th>heart_disease</th>\n",
       "      <td>-0.001296</td>\n",
       "      <td>0.263796</td>\n",
       "      <td>0.108306</td>\n",
       "      <td>1.000000</td>\n",
       "      <td>0.161857</td>\n",
       "      <td>0.038899</td>\n",
       "      <td>0.134914</td>\n",
       "    </tr>\n",
       "    <tr>\n",
       "      <th>avg_glucose_level</th>\n",
       "      <td>0.001092</td>\n",
       "      <td>0.238171</td>\n",
       "      <td>0.174474</td>\n",
       "      <td>0.161857</td>\n",
       "      <td>1.000000</td>\n",
       "      <td>0.168751</td>\n",
       "      <td>0.131945</td>\n",
       "    </tr>\n",
       "    <tr>\n",
       "      <th>bmi</th>\n",
       "      <td>0.002999</td>\n",
       "      <td>0.325942</td>\n",
       "      <td>0.160189</td>\n",
       "      <td>0.038899</td>\n",
       "      <td>0.168751</td>\n",
       "      <td>1.000000</td>\n",
       "      <td>0.038947</td>\n",
       "    </tr>\n",
       "    <tr>\n",
       "      <th>stroke</th>\n",
       "      <td>0.006388</td>\n",
       "      <td>0.245257</td>\n",
       "      <td>0.127904</td>\n",
       "      <td>0.134914</td>\n",
       "      <td>0.131945</td>\n",
       "      <td>0.038947</td>\n",
       "      <td>1.000000</td>\n",
       "    </tr>\n",
       "  </tbody>\n",
       "</table>\n",
       "</div>"
      ],
      "text/plain": [
       "                         id       age  hypertension  heart_disease  \\\n",
       "id                 1.000000  0.003538      0.003550      -0.001296   \n",
       "age                0.003538  1.000000      0.276398       0.263796   \n",
       "hypertension       0.003550  0.276398      1.000000       0.108306   \n",
       "heart_disease     -0.001296  0.263796      0.108306       1.000000   \n",
       "avg_glucose_level  0.001092  0.238171      0.174474       0.161857   \n",
       "bmi                0.002999  0.325942      0.160189       0.038899   \n",
       "stroke             0.006388  0.245257      0.127904       0.134914   \n",
       "\n",
       "                   avg_glucose_level       bmi    stroke  \n",
       "id                          0.001092  0.002999  0.006388  \n",
       "age                         0.238171  0.325942  0.245257  \n",
       "hypertension                0.174474  0.160189  0.127904  \n",
       "heart_disease               0.161857  0.038899  0.134914  \n",
       "avg_glucose_level           1.000000  0.168751  0.131945  \n",
       "bmi                         0.168751  1.000000  0.038947  \n",
       "stroke                      0.131945  0.038947  1.000000  "
      ]
     },
     "execution_count": 14,
     "metadata": {},
     "output_type": "execute_result"
    }
   ],
   "source": [
    "# Make a correlation matrix\n",
    "df.corr()"
   ]
  },
  {
   "cell_type": "code",
   "execution_count": 15,
   "id": "4d0153d1",
   "metadata": {},
   "outputs": [
    {
     "data": {
      "text/plain": [
       "(7.5, -0.5)"
      ]
     },
     "execution_count": 15,
     "metadata": {},
     "output_type": "execute_result"
    },
    {
     "data": {
      "image/png": "[encoded data removed]",
      "text/plain": [
       "<Figure size 1080x720 with 2 Axes>"
      ]
     },
     "metadata": {
      "needs_background": "light"
     },
     "output_type": "display_data"
    }
   ],
   "source": [
    "# Let's make our correlation matrix a little prettier\n",
    "corr_matrix = df.corr()\n",
    "fig, ax = plt.subplots(figsize=(15, 10))\n",
    "ax = sns.heatmap(corr_matrix,\n",
    "                 annot=True,\n",
    "                 linewidths=0.5,\n",
    "                 fmt=\".2f\",\n",
    "                 cmap=\"YlGnBu\");\n",
    "bottom, top = ax.get_ylim()\n",
    "ax.set_ylim(bottom + 0.5, top - 0.5)"
   ]
  },
  {
   "cell_type": "markdown",
   "id": "da82d7b2",
   "metadata": {},
   "source": [
    "##  Convert Categorical columns to numeric"
   ]
  },
  {
   "cell_type": "code",
   "execution_count": 16,
   "id": "55047e77",
   "metadata": {},
   "outputs": [
    {
     "data": {
      "text/html": [
       "<div>\n",
       "<style scoped>\n",
       "    .dataframe tbody tr th:only-of-type {\n",
       "        vertical-align: middle;\n",
       "    }\n",
       "\n",
       "    .dataframe tbody tr th {\n",
       "        vertical-align: top;\n",
       "    }\n",
       "\n",
       "    .dataframe thead th {\n",
       "        text-align: right;\n",
       "    }\n",
       "</style>\n",
       "<table border=\"1\" class=\"dataframe\">\n",
       "  <thead>\n",
       "    <tr style=\"text-align: right;\">\n",
       "      <th></th>\n",
       "      <th>id</th>\n",
       "      <th>age</th>\n",
       "      <th>hypertension</th>\n",
       "      <th>heart_disease</th>\n",
       "      <th>avg_glucose_level</th>\n",
       "      <th>bmi</th>\n",
       "      <th>stroke</th>\n",
       "      <th>gender_Male</th>\n",
       "      <th>gender_Other</th>\n",
       "      <th>work_type_Never_worked</th>\n",
       "      <th>work_type_Private</th>\n",
       "      <th>work_type_Self-employed</th>\n",
       "      <th>work_type_children</th>\n",
       "      <th>Residence_type_Urban</th>\n",
       "      <th>smoking_status_formerly smoked</th>\n",
       "      <th>smoking_status_never smoked</th>\n",
       "      <th>smoking_status_smokes</th>\n",
       "      <th>ever_married_Yes</th>\n",
       "    </tr>\n",
       "  </thead>\n",
       "  <tbody>\n",
       "    <tr>\n",
       "      <th>0</th>\n",
       "      <td>9046</td>\n",
       "      <td>67.0</td>\n",
       "      <td>0</td>\n",
       "      <td>1</td>\n",
       "      <td>228.69</td>\n",
       "      <td>36.600000</td>\n",
       "      <td>1</td>\n",
       "      <td>1</td>\n",
       "      <td>0</td>\n",
       "      <td>0</td>\n",
       "      <td>1</td>\n",
       "      <td>0</td>\n",
       "      <td>0</td>\n",
       "      <td>1</td>\n",
       "      <td>1</td>\n",
       "      <td>0</td>\n",
       "      <td>0</td>\n",
       "      <td>1</td>\n",
       "    </tr>\n",
       "    <tr>\n",
       "      <th>1</th>\n",
       "      <td>51676</td>\n",
       "      <td>61.0</td>\n",
       "      <td>0</td>\n",
       "      <td>0</td>\n",
       "      <td>202.21</td>\n",
       "      <td>28.893237</td>\n",
       "      <td>1</td>\n",
       "      <td>0</td>\n",
       "      <td>0</td>\n",
       "      <td>0</td>\n",
       "      <td>0</td>\n",
       "      <td>1</td>\n",
       "      <td>0</td>\n",
       "      <td>0</td>\n",
       "      <td>0</td>\n",
       "      <td>1</td>\n",
       "      <td>0</td>\n",
       "      <td>1</td>\n",
       "    </tr>\n",
       "    <tr>\n",
       "      <th>2</th>\n",
       "      <td>31112</td>\n",
       "      <td>80.0</td>\n",
       "      <td>0</td>\n",
       "      <td>1</td>\n",
       "      <td>105.92</td>\n",
       "      <td>32.500000</td>\n",
       "      <td>1</td>\n",
       "      <td>1</td>\n",
       "      <td>0</td>\n",
       "      <td>0</td>\n",
       "      <td>1</td>\n",
       "      <td>0</td>\n",
       "      <td>0</td>\n",
       "      <td>0</td>\n",
       "      <td>0</td>\n",
       "      <td>1</td>\n",
       "      <td>0</td>\n",
       "      <td>1</td>\n",
       "    </tr>\n",
       "    <tr>\n",
       "      <th>3</th>\n",
       "      <td>60182</td>\n",
       "      <td>49.0</td>\n",
       "      <td>0</td>\n",
       "      <td>0</td>\n",
       "      <td>171.23</td>\n",
       "      <td>34.400000</td>\n",
       "      <td>1</td>\n",
       "      <td>0</td>\n",
       "      <td>0</td>\n",
       "      <td>0</td>\n",
       "      <td>1</td>\n",
       "      <td>0</td>\n",
       "      <td>0</td>\n",
       "      <td>1</td>\n",
       "      <td>0</td>\n",
       "      <td>0</td>\n",
       "      <td>1</td>\n",
       "      <td>1</td>\n",
       "    </tr>\n",
       "    <tr>\n",
       "      <th>4</th>\n",
       "      <td>1665</td>\n",
       "      <td>79.0</td>\n",
       "      <td>1</td>\n",
       "      <td>0</td>\n",
       "      <td>174.12</td>\n",
       "      <td>24.000000</td>\n",
       "      <td>1</td>\n",
       "      <td>0</td>\n",
       "      <td>0</td>\n",
       "      <td>0</td>\n",
       "      <td>0</td>\n",
       "      <td>1</td>\n",
       "      <td>0</td>\n",
       "      <td>0</td>\n",
       "      <td>0</td>\n",
       "      <td>1</td>\n",
       "      <td>0</td>\n",
       "      <td>1</td>\n",
       "    </tr>\n",
       "    <tr>\n",
       "      <th>...</th>\n",
       "      <td>...</td>\n",
       "      <td>...</td>\n",
       "      <td>...</td>\n",
       "      <td>...</td>\n",
       "      <td>...</td>\n",
       "      <td>...</td>\n",
       "      <td>...</td>\n",
       "      <td>...</td>\n",
       "      <td>...</td>\n",
       "      <td>...</td>\n",
       "      <td>...</td>\n",
       "      <td>...</td>\n",
       "      <td>...</td>\n",
       "      <td>...</td>\n",
       "      <td>...</td>\n",
       "      <td>...</td>\n",
       "      <td>...</td>\n",
       "      <td>...</td>\n",
       "    </tr>\n",
       "    <tr>\n",
       "      <th>5105</th>\n",
       "      <td>18234</td>\n",
       "      <td>80.0</td>\n",
       "      <td>1</td>\n",
       "      <td>0</td>\n",
       "      <td>83.75</td>\n",
       "      <td>28.893237</td>\n",
       "      <td>0</td>\n",
       "      <td>0</td>\n",
       "      <td>0</td>\n",
       "      <td>0</td>\n",
       "      <td>1</td>\n",
       "      <td>0</td>\n",
       "      <td>0</td>\n",
       "      <td>1</td>\n",
       "      <td>0</td>\n",
       "      <td>1</td>\n",
       "      <td>0</td>\n",
       "      <td>1</td>\n",
       "    </tr>\n",
       "    <tr>\n",
       "      <th>5106</th>\n",
       "      <td>44873</td>\n",
       "      <td>81.0</td>\n",
       "      <td>0</td>\n",
       "      <td>0</td>\n",
       "      <td>125.20</td>\n",
       "      <td>40.000000</td>\n",
       "      <td>0</td>\n",
       "      <td>0</td>\n",
       "      <td>0</td>\n",
       "      <td>0</td>\n",
       "      <td>0</td>\n",
       "      <td>1</td>\n",
       "      <td>0</td>\n",
       "      <td>1</td>\n",
       "      <td>0</td>\n",
       "      <td>1</td>\n",
       "      <td>0</td>\n",
       "      <td>1</td>\n",
       "    </tr>\n",
       "    <tr>\n",
       "      <th>5107</th>\n",
       "      <td>19723</td>\n",
       "      <td>35.0</td>\n",
       "      <td>0</td>\n",
       "      <td>0</td>\n",
       "      <td>82.99</td>\n",
       "      <td>30.600000</td>\n",
       "      <td>0</td>\n",
       "      <td>0</td>\n",
       "      <td>0</td>\n",
       "      <td>0</td>\n",
       "      <td>0</td>\n",
       "      <td>1</td>\n",
       "      <td>0</td>\n",
       "      <td>0</td>\n",
       "      <td>0</td>\n",
       "      <td>1</td>\n",
       "      <td>0</td>\n",
       "      <td>1</td>\n",
       "    </tr>\n",
       "    <tr>\n",
       "      <th>5108</th>\n",
       "      <td>37544</td>\n",
       "      <td>51.0</td>\n",
       "      <td>0</td>\n",
       "      <td>0</td>\n",
       "      <td>166.29</td>\n",
       "      <td>25.600000</td>\n",
       "      <td>0</td>\n",
       "      <td>1</td>\n",
       "      <td>0</td>\n",
       "      <td>0</td>\n",
       "      <td>1</td>\n",
       "      <td>0</td>\n",
       "      <td>0</td>\n",
       "      <td>0</td>\n",
       "      <td>1</td>\n",
       "      <td>0</td>\n",
       "      <td>0</td>\n",
       "      <td>1</td>\n",
       "    </tr>\n",
       "    <tr>\n",
       "      <th>5109</th>\n",
       "      <td>44679</td>\n",
       "      <td>44.0</td>\n",
       "      <td>0</td>\n",
       "      <td>0</td>\n",
       "      <td>85.28</td>\n",
       "      <td>26.200000</td>\n",
       "      <td>0</td>\n",
       "      <td>0</td>\n",
       "      <td>0</td>\n",
       "      <td>0</td>\n",
       "      <td>0</td>\n",
       "      <td>0</td>\n",
       "      <td>0</td>\n",
       "      <td>1</td>\n",
       "      <td>0</td>\n",
       "      <td>0</td>\n",
       "      <td>0</td>\n",
       "      <td>1</td>\n",
       "    </tr>\n",
       "  </tbody>\n",
       "</table>\n",
       "<p>5110 rows × 18 columns</p>\n",
       "</div>"
      ],
      "text/plain": [
       "         id   age  hypertension  heart_disease  avg_glucose_level        bmi  \\\n",
       "0      9046  67.0             0              1             228.69  36.600000   \n",
       "1     51676  61.0             0              0             202.21  28.893237   \n",
       "2     31112  80.0             0              1             105.92  32.500000   \n",
       "3     60182  49.0             0              0             171.23  34.400000   \n",
       "4      1665  79.0             1              0             174.12  24.000000   \n",
       "...     ...   ...           ...            ...                ...        ...   \n",
       "5105  18234  80.0             1              0              83.75  28.893237   \n",
       "5106  44873  81.0             0              0             125.20  40.000000   \n",
       "5107  19723  35.0             0              0              82.99  30.600000   \n",
       "5108  37544  51.0             0              0             166.29  25.600000   \n",
       "5109  44679  44.0             0              0              85.28  26.200000   \n",
       "\n",
       "      stroke  gender_Male  gender_Other  work_type_Never_worked  \\\n",
       "0          1            1             0                       0   \n",
       "1          1            0             0                       0   \n",
       "2          1            1             0                       0   \n",
       "3          1            0             0                       0   \n",
       "4          1            0             0                       0   \n",
       "...      ...          ...           ...                     ...   \n",
       "5105       0            0             0                       0   \n",
       "5106       0            0             0                       0   \n",
       "5107       0            0             0                       0   \n",
       "5108       0            1             0                       0   \n",
       "5109       0            0             0                       0   \n",
       "\n",
       "      work_type_Private  work_type_Self-employed  work_type_children  \\\n",
       "0                     1                        0                   0   \n",
       "1                     0                        1                   0   \n",
       "2                     1                        0                   0   \n",
       "3                     1                        0                   0   \n",
       "4                     0                        1                   0   \n",
       "...                 ...                      ...                 ...   \n",
       "5105                  1                        0                   0   \n",
       "5106                  0                        1                   0   \n",
       "5107                  0                        1                   0   \n",
       "5108                  1                        0                   0   \n",
       "5109                  0                        0                   0   \n",
       "\n",
       "      Residence_type_Urban  smoking_status_formerly smoked  \\\n",
       "0                        1                               1   \n",
       "1                        0                               0   \n",
       "2                        0                               0   \n",
       "3                        1                               0   \n",
       "4                        0                               0   \n",
       "...                    ...                             ...   \n",
       "5105                     1                               0   \n",
       "5106                     1                               0   \n",
       "5107                     0                               0   \n",
       "5108                     0                               1   \n",
       "5109                     1                               0   \n",
       "\n",
       "      smoking_status_never smoked  smoking_status_smokes  ever_married_Yes  \n",
       "0                               0                      0                 1  \n",
       "1                               1                      0                 1  \n",
       "2                               1                      0                 1  \n",
       "3                               0                      1                 1  \n",
       "4                               1                      0                 1  \n",
       "...                           ...                    ...               ...  \n",
       "5105                            1                      0                 1  \n",
       "5106                            1                      0                 1  \n",
       "5107                            1                      0                 1  \n",
       "5108                            0                      0                 1  \n",
       "5109                            0                      0                 1  \n",
       "\n",
       "[5110 rows x 18 columns]"
      ]
     },
     "execution_count": 16,
     "metadata": {},
     "output_type": "execute_result"
    }
   ],
   "source": [
    "# Another way to do it with pd.dummies...\n",
    "dummies = pd.get_dummies(df, columns=[\"gender\", \"work_type\", \"Residence_type\", \"smoking_status\", \"ever_married\"], drop_first=True)\n",
    "dummies"
   ]
  },
  {
   "cell_type": "code",
   "execution_count": 17,
   "id": "937077ea",
   "metadata": {},
   "outputs": [
    {
     "name": "stdout",
     "output_type": "stream",
     "text": [
      "<class 'pandas.core.frame.DataFrame'>\n",
      "RangeIndex: 5110 entries, 0 to 5109\n",
      "Data columns (total 18 columns):\n",
      " #   Column                          Non-Null Count  Dtype  \n",
      "---  ------                          --------------  -----  \n",
      " 0   id                              5110 non-null   int64  \n",
      " 1   age                             5110 non-null   float64\n",
      " 2   hypertension                    5110 non-null   int64  \n",
      " 3   heart_disease                   5110 non-null   int64  \n",
      " 4   avg_glucose_level               5110 non-null   float64\n",
      " 5   bmi                             5110 non-null   float64\n",
      " 6   stroke                          5110 non-null   int64  \n",
      " 7   gender_Male                     5110 non-null   uint8  \n",
      " 8   gender_Other                    5110 non-null   uint8  \n",
      " 9   work_type_Never_worked          5110 non-null   uint8  \n",
      " 10  work_type_Private               5110 non-null   uint8  \n",
      " 11  work_type_Self-employed         5110 non-null   uint8  \n",
      " 12  work_type_children              5110 non-null   uint8  \n",
      " 13  Residence_type_Urban            5110 non-null   uint8  \n",
      " 14  smoking_status_formerly smoked  5110 non-null   uint8  \n",
      " 15  smoking_status_never smoked     5110 non-null   uint8  \n",
      " 16  smoking_status_smokes           5110 non-null   uint8  \n",
      " 17  ever_married_Yes                5110 non-null   uint8  \n",
      "dtypes: float64(3), int64(4), uint8(11)\n",
      "memory usage: 334.5 KB\n"
     ]
    }
   ],
   "source": [
    "dummies.info()"
   ]
  },
  {
   "cell_type": "code",
   "execution_count": 18,
   "id": "14c034c4",
   "metadata": {},
   "outputs": [],
   "source": [
    "X = dummies.drop(\"stroke\", axis=1)"
   ]
  },
  {
   "cell_type": "code",
   "execution_count": 19,
   "id": "5eb18d56",
   "metadata": {},
   "outputs": [],
   "source": [
    "y = dummies[\"stroke\"]"
   ]
  },
  {
   "cell_type": "code",
   "execution_count": 20,
   "id": "0b12fab1",
   "metadata": {},
   "outputs": [],
   "source": [
    "# Split data into train and test sets\n",
    "np.random.seed(42)\n",
    "\n",
    "# Split into train & test set\n",
    "X_train, X_test, y_train, y_test = train_test_split(X,\n",
    "                                                    y,\n",
    "                                                    test_size=0.2)"
   ]
  },
  {
   "cell_type": "code",
   "execution_count": 21,
   "id": "e7005d82",
   "metadata": {},
   "outputs": [],
   "source": [
    "# Put models in a dictionary\n",
    "models = {\"Logistic Regression\": LogisticRegression(),\n",
    "          \"KNN\": KNeighborsClassifier(),\n",
    "          \"Random Forest\": RandomForestClassifier(),\n",
    "          \"Decision Tree\": DecisionTreeClassifier(),\n",
    "          \"AdaBoost\": AdaBoostClassifier(),\n",
    "          \"XGBoost\": XGBClassifier(),\n",
    "          \"CatBoost\": CatBoostClassifier()}\n",
    "\n",
    "# Create a function to fit and score models\n",
    "def fit_and_score(models, X_train, X_test, y_train, y_test):\n",
    "    \"\"\"\n",
    "    Fits and evaluates given machine learning models.\n",
    "    models : a dict of different Scikit-Learn machine learning models\n",
    "    X_train : training data (no labels)\n",
    "    X_test : testing data (no labels)\n",
    "    y_train : training labels\n",
    "    y_test : test labels\n",
    "    \"\"\"\n",
    "    # Set random seed\n",
    "    np.random.seed(42)\n",
    "    # Make a dictionary to keep model scores\n",
    "    model_scores = {}\n",
    "    # Loop through models\n",
    "    for name, model in models.items():\n",
    "        # Fit the model to the data\n",
    "        model.fit(X_train, y_train)\n",
    "        # Evaluate the model and append its score to model_scores\n",
    "        model_scores[name] = model.score(X_test, y_test)\n",
    "    return model_scores"
   ]
  },
  {
   "cell_type": "code",
   "execution_count": 22,
   "id": "e323888d",
   "metadata": {},
   "outputs": [
    {
     "name": "stdout",
     "output_type": "stream",
     "text": [
      "Learning rate set to 0.018795\n",
      "0:\tlearn: 0.6579097\ttotal: 153ms\tremaining: 2m 32s\n",
      "1:\tlearn: 0.6297759\ttotal: 166ms\tremaining: 1m 22s\n",
      "2:\tlearn: 0.6044193\ttotal: 178ms\tremaining: 59.3s\n",
      "3:\tlearn: 0.5817813\ttotal: 190ms\tremaining: 47.2s\n",
      "4:\tlearn: 0.5590076\ttotal: 199ms\tremaining: 39.6s\n",
      "5:\tlearn: 0.5351530\ttotal: 205ms\tremaining: 33.9s\n",
      "6:\tlearn: 0.5123135\ttotal: 213ms\tremaining: 30.3s\n",
      "7:\tlearn: 0.4936697\ttotal: 224ms\tremaining: 27.7s\n",
      "8:\tlearn: 0.4769906\ttotal: 230ms\tremaining: 25.3s\n",
      "9:\tlearn: 0.4584801\ttotal: 236ms\tremaining: 23.3s\n",
      "10:\tlearn: 0.4442669\ttotal: 239ms\tremaining: 21.5s\n",
      "11:\tlearn: 0.4303228\ttotal: 244ms\tremaining: 20.1s\n",
      "12:\tlearn: 0.4140784\ttotal: 249ms\tremaining: 18.9s\n",
      "13:\tlearn: 0.4012877\ttotal: 254ms\tremaining: 17.9s\n",
      "14:\tlearn: 0.3885001\ttotal: 258ms\tremaining: 17s\n",
      "15:\tlearn: 0.3754840\ttotal: 263ms\tremaining: 16.1s\n",
      "16:\tlearn: 0.3614831\ttotal: 267ms\tremaining: 15.5s\n",
      "17:\tlearn: 0.3517016\ttotal: 272ms\tremaining: 14.8s\n",
      "18:\tlearn: 0.3420540\ttotal: 277ms\tremaining: 14.3s\n",
      "19:\tlearn: 0.3336375\ttotal: 280ms\tremaining: 13.7s\n",
      "20:\tlearn: 0.3229614\ttotal: 284ms\tremaining: 13.3s\n",
      "21:\tlearn: 0.3152626\ttotal: 289ms\tremaining: 12.8s\n",
      "22:\tlearn: 0.3077504\ttotal: 298ms\tremaining: 12.7s\n",
      "23:\tlearn: 0.2999635\ttotal: 301ms\tremaining: 12.2s\n",
      "24:\tlearn: 0.2926615\ttotal: 306ms\tremaining: 11.9s\n",
      "25:\tlearn: 0.2848274\ttotal: 310ms\tremaining: 11.6s\n",
      "26:\tlearn: 0.2787171\ttotal: 317ms\tremaining: 11.4s\n",
      "27:\tlearn: 0.2712032\ttotal: 321ms\tremaining: 11.2s\n",
      "28:\tlearn: 0.2649418\ttotal: 326ms\tremaining: 10.9s\n",
      "29:\tlearn: 0.2581628\ttotal: 332ms\tremaining: 10.7s\n",
      "30:\tlearn: 0.2536798\ttotal: 337ms\tremaining: 10.5s\n",
      "31:\tlearn: 0.2481161\ttotal: 342ms\tremaining: 10.3s\n",
      "32:\tlearn: 0.2427208\ttotal: 350ms\tremaining: 10.2s\n",
      "33:\tlearn: 0.2385481\ttotal: 356ms\tremaining: 10.1s\n",
      "34:\tlearn: 0.2338281\ttotal: 362ms\tremaining: 9.98s\n",
      "35:\tlearn: 0.2307478\ttotal: 365ms\tremaining: 9.77s\n",
      "36:\tlearn: 0.2273228\ttotal: 374ms\tremaining: 9.74s\n",
      "37:\tlearn: 0.2239765\ttotal: 384ms\tremaining: 9.71s\n",
      "38:\tlearn: 0.2209402\ttotal: 392ms\tremaining: 9.65s\n",
      "39:\tlearn: 0.2173376\ttotal: 399ms\tremaining: 9.57s\n",
      "40:\tlearn: 0.2143075\ttotal: 407ms\tremaining: 9.53s\n",
      "41:\tlearn: 0.2117813\ttotal: 415ms\tremaining: 9.47s\n",
      "42:\tlearn: 0.2088625\ttotal: 420ms\tremaining: 9.34s\n",
      "43:\tlearn: 0.2053505\ttotal: 424ms\tremaining: 9.22s\n",
      "44:\tlearn: 0.2030503\ttotal: 431ms\tremaining: 9.14s\n",
      "45:\tlearn: 0.2006162\ttotal: 437ms\tremaining: 9.07s\n",
      "46:\tlearn: 0.1987833\ttotal: 446ms\tremaining: 9.04s\n",
      "47:\tlearn: 0.1971399\ttotal: 452ms\tremaining: 8.96s\n",
      "48:\tlearn: 0.1948347\ttotal: 456ms\tremaining: 8.86s\n",
      "49:\tlearn: 0.1922090\ttotal: 463ms\tremaining: 8.79s\n",
      "50:\tlearn: 0.1896897\ttotal: 468ms\tremaining: 8.71s\n",
      "51:\tlearn: 0.1877911\ttotal: 473ms\tremaining: 8.62s\n",
      "52:\tlearn: 0.1855672\ttotal: 477ms\tremaining: 8.53s\n",
      "53:\tlearn: 0.1836069\ttotal: 483ms\tremaining: 8.46s\n",
      "54:\tlearn: 0.1825112\ttotal: 486ms\tremaining: 8.36s\n",
      "55:\tlearn: 0.1803978\ttotal: 492ms\tremaining: 8.29s\n",
      "56:\tlearn: 0.1785481\ttotal: 499ms\tremaining: 8.25s\n",
      "57:\tlearn: 0.1769984\ttotal: 504ms\tremaining: 8.18s\n",
      "58:\tlearn: 0.1757515\ttotal: 509ms\tremaining: 8.12s\n",
      "59:\tlearn: 0.1747769\ttotal: 514ms\tremaining: 8.06s\n",
      "60:\tlearn: 0.1731359\ttotal: 520ms\tremaining: 8s\n",
      "61:\tlearn: 0.1723119\ttotal: 525ms\tremaining: 7.94s\n",
      "62:\tlearn: 0.1713159\ttotal: 530ms\tremaining: 7.89s\n",
      "63:\tlearn: 0.1702991\ttotal: 535ms\tremaining: 7.83s\n",
      "64:\tlearn: 0.1694328\ttotal: 541ms\tremaining: 7.78s\n",
      "65:\tlearn: 0.1683562\ttotal: 548ms\tremaining: 7.75s\n",
      "66:\tlearn: 0.1671448\ttotal: 554ms\tremaining: 7.72s\n",
      "67:\tlearn: 0.1659517\ttotal: 560ms\tremaining: 7.68s\n",
      "68:\tlearn: 0.1653048\ttotal: 566ms\tremaining: 7.64s\n",
      "69:\tlearn: 0.1644821\ttotal: 572ms\tremaining: 7.6s\n",
      "70:\tlearn: 0.1635074\ttotal: 578ms\tremaining: 7.56s\n",
      "71:\tlearn: 0.1630020\ttotal: 585ms\tremaining: 7.54s\n",
      "72:\tlearn: 0.1619821\ttotal: 590ms\tremaining: 7.5s\n",
      "73:\tlearn: 0.1609788\ttotal: 595ms\tremaining: 7.45s\n",
      "74:\tlearn: 0.1600209\ttotal: 600ms\tremaining: 7.4s\n",
      "75:\tlearn: 0.1592827\ttotal: 607ms\tremaining: 7.37s\n",
      "76:\tlearn: 0.1584524\ttotal: 611ms\tremaining: 7.33s\n",
      "77:\tlearn: 0.1574907\ttotal: 616ms\tremaining: 7.28s\n",
      "78:\tlearn: 0.1569959\ttotal: 620ms\tremaining: 7.23s\n",
      "79:\tlearn: 0.1564583\ttotal: 625ms\tremaining: 7.18s\n",
      "80:\tlearn: 0.1555961\ttotal: 629ms\tremaining: 7.14s\n",
      "81:\tlearn: 0.1548566\ttotal: 634ms\tremaining: 7.1s\n",
      "82:\tlearn: 0.1542489\ttotal: 639ms\tremaining: 7.05s\n",
      "83:\tlearn: 0.1535509\ttotal: 643ms\tremaining: 7.01s\n",
      "84:\tlearn: 0.1528596\ttotal: 648ms\tremaining: 6.98s\n",
      "85:\tlearn: 0.1521116\ttotal: 657ms\tremaining: 6.98s\n",
      "86:\tlearn: 0.1515554\ttotal: 663ms\tremaining: 6.96s\n",
      "87:\tlearn: 0.1511524\ttotal: 669ms\tremaining: 6.93s\n",
      "88:\tlearn: 0.1503969\ttotal: 674ms\tremaining: 6.9s\n",
      "89:\tlearn: 0.1497274\ttotal: 679ms\tremaining: 6.86s\n",
      "90:\tlearn: 0.1491844\ttotal: 684ms\tremaining: 6.83s\n",
      "91:\tlearn: 0.1488828\ttotal: 689ms\tremaining: 6.8s\n",
      "92:\tlearn: 0.1483560\ttotal: 694ms\tremaining: 6.77s\n",
      "93:\tlearn: 0.1478689\ttotal: 699ms\tremaining: 6.74s\n",
      "94:\tlearn: 0.1473405\ttotal: 704ms\tremaining: 6.71s\n",
      "95:\tlearn: 0.1470093\ttotal: 709ms\tremaining: 6.67s\n",
      "96:\tlearn: 0.1465856\ttotal: 713ms\tremaining: 6.64s\n",
      "97:\tlearn: 0.1461472\ttotal: 719ms\tremaining: 6.62s\n",
      "98:\tlearn: 0.1456437\ttotal: 725ms\tremaining: 6.6s\n",
      "99:\tlearn: 0.1452792\ttotal: 730ms\tremaining: 6.57s\n",
      "100:\tlearn: 0.1448170\ttotal: 736ms\tremaining: 6.55s\n",
      "101:\tlearn: 0.1445261\ttotal: 740ms\tremaining: 6.52s\n",
      "102:\tlearn: 0.1442768\ttotal: 747ms\tremaining: 6.5s\n",
      "103:\tlearn: 0.1440636\ttotal: 752ms\tremaining: 6.48s\n",
      "104:\tlearn: 0.1436206\ttotal: 758ms\tremaining: 6.46s\n",
      "105:\tlearn: 0.1431933\ttotal: 764ms\tremaining: 6.45s\n",
      "106:\tlearn: 0.1428061\ttotal: 772ms\tremaining: 6.44s\n",
      "107:\tlearn: 0.1424236\ttotal: 780ms\tremaining: 6.44s\n",
      "108:\tlearn: 0.1420498\ttotal: 786ms\tremaining: 6.42s\n",
      "109:\tlearn: 0.1418176\ttotal: 793ms\tremaining: 6.42s\n",
      "110:\tlearn: 0.1415991\ttotal: 800ms\tremaining: 6.41s\n",
      "111:\tlearn: 0.1412623\ttotal: 806ms\tremaining: 6.39s\n",
      "112:\tlearn: 0.1409770\ttotal: 813ms\tremaining: 6.38s\n",
      "113:\tlearn: 0.1405818\ttotal: 819ms\tremaining: 6.37s\n",
      "114:\tlearn: 0.1402666\ttotal: 827ms\tremaining: 6.36s\n",
      "115:\tlearn: 0.1399635\ttotal: 832ms\tremaining: 6.34s\n",
      "116:\tlearn: 0.1396704\ttotal: 838ms\tremaining: 6.32s\n",
      "117:\tlearn: 0.1393827\ttotal: 843ms\tremaining: 6.3s\n",
      "118:\tlearn: 0.1391053\ttotal: 850ms\tremaining: 6.29s\n",
      "119:\tlearn: 0.1389447\ttotal: 856ms\tremaining: 6.27s\n",
      "120:\tlearn: 0.1386984\ttotal: 861ms\tremaining: 6.26s\n",
      "121:\tlearn: 0.1385323\ttotal: 867ms\tremaining: 6.24s\n",
      "122:\tlearn: 0.1382746\ttotal: 873ms\tremaining: 6.22s\n",
      "123:\tlearn: 0.1378976\ttotal: 880ms\tremaining: 6.22s\n",
      "124:\tlearn: 0.1376903\ttotal: 888ms\tremaining: 6.21s\n",
      "125:\tlearn: 0.1374036\ttotal: 894ms\tremaining: 6.2s\n",
      "126:\tlearn: 0.1370518\ttotal: 900ms\tremaining: 6.18s\n",
      "127:\tlearn: 0.1368209\ttotal: 906ms\tremaining: 6.17s\n",
      "128:\tlearn: 0.1366119\ttotal: 911ms\tremaining: 6.15s\n",
      "129:\tlearn: 0.1364642\ttotal: 921ms\tremaining: 6.16s\n",
      "130:\tlearn: 0.1362349\ttotal: 930ms\tremaining: 6.17s\n",
      "131:\tlearn: 0.1358768\ttotal: 937ms\tremaining: 6.16s\n",
      "132:\tlearn: 0.1355575\ttotal: 943ms\tremaining: 6.15s\n",
      "133:\tlearn: 0.1353013\ttotal: 949ms\tremaining: 6.13s\n",
      "134:\tlearn: 0.1350745\ttotal: 956ms\tremaining: 6.13s\n",
      "135:\tlearn: 0.1348821\ttotal: 962ms\tremaining: 6.11s\n",
      "136:\tlearn: 0.1346359\ttotal: 969ms\tremaining: 6.1s\n",
      "137:\tlearn: 0.1344374\ttotal: 977ms\tremaining: 6.1s\n",
      "138:\tlearn: 0.1341826\ttotal: 982ms\tremaining: 6.08s\n",
      "139:\tlearn: 0.1339944\ttotal: 988ms\tremaining: 6.07s\n",
      "140:\tlearn: 0.1337559\ttotal: 993ms\tremaining: 6.05s\n",
      "141:\tlearn: 0.1334783\ttotal: 998ms\tremaining: 6.03s\n",
      "142:\tlearn: 0.1332797\ttotal: 1s\tremaining: 6.01s\n",
      "143:\tlearn: 0.1331065\ttotal: 1.01s\tremaining: 6s\n",
      "144:\tlearn: 0.1329237\ttotal: 1.01s\tremaining: 5.99s\n",
      "145:\tlearn: 0.1326899\ttotal: 1.02s\tremaining: 5.98s\n",
      "146:\tlearn: 0.1324937\ttotal: 1.03s\tremaining: 5.96s\n",
      "147:\tlearn: 0.1323135\ttotal: 1.03s\tremaining: 5.95s\n",
      "148:\tlearn: 0.1321389\ttotal: 1.04s\tremaining: 5.96s\n",
      "149:\tlearn: 0.1319221\ttotal: 1.05s\tremaining: 5.94s\n",
      "150:\tlearn: 0.1317498\ttotal: 1.05s\tremaining: 5.93s\n",
      "151:\tlearn: 0.1314970\ttotal: 1.06s\tremaining: 5.92s\n",
      "152:\tlearn: 0.1312841\ttotal: 1.06s\tremaining: 5.9s\n",
      "153:\tlearn: 0.1310260\ttotal: 1.07s\tremaining: 5.88s\n",
      "154:\tlearn: 0.1308153\ttotal: 1.07s\tremaining: 5.86s\n",
      "155:\tlearn: 0.1306195\ttotal: 1.08s\tremaining: 5.84s\n",
      "156:\tlearn: 0.1304205\ttotal: 1.08s\tremaining: 5.82s\n",
      "157:\tlearn: 0.1303207\ttotal: 1.09s\tremaining: 5.81s\n",
      "158:\tlearn: 0.1301157\ttotal: 1.09s\tremaining: 5.79s\n",
      "159:\tlearn: 0.1299966\ttotal: 1.1s\tremaining: 5.78s\n",
      "160:\tlearn: 0.1297924\ttotal: 1.1s\tremaining: 5.76s\n",
      "161:\tlearn: 0.1296392\ttotal: 1.11s\tremaining: 5.74s\n",
      "162:\tlearn: 0.1293715\ttotal: 1.11s\tremaining: 5.73s\n",
      "163:\tlearn: 0.1292465\ttotal: 1.12s\tremaining: 5.71s\n",
      "164:\tlearn: 0.1289995\ttotal: 1.12s\tremaining: 5.69s\n"
     ]
    },
    {
     "name": "stdout",
     "output_type": "stream",
     "text": [
      "165:\tlearn: 0.1288091\ttotal: 1.13s\tremaining: 5.67s\n",
      "166:\tlearn: 0.1286522\ttotal: 1.14s\tremaining: 5.66s\n",
      "167:\tlearn: 0.1285349\ttotal: 1.14s\tremaining: 5.65s\n",
      "168:\tlearn: 0.1283423\ttotal: 1.15s\tremaining: 5.64s\n",
      "169:\tlearn: 0.1281779\ttotal: 1.15s\tremaining: 5.63s\n",
      "170:\tlearn: 0.1280176\ttotal: 1.16s\tremaining: 5.64s\n",
      "171:\tlearn: 0.1278442\ttotal: 1.17s\tremaining: 5.63s\n",
      "172:\tlearn: 0.1277434\ttotal: 1.17s\tremaining: 5.61s\n",
      "173:\tlearn: 0.1275000\ttotal: 1.18s\tremaining: 5.6s\n",
      "174:\tlearn: 0.1273133\ttotal: 1.18s\tremaining: 5.58s\n",
      "175:\tlearn: 0.1271010\ttotal: 1.19s\tremaining: 5.57s\n",
      "176:\tlearn: 0.1269012\ttotal: 1.2s\tremaining: 5.56s\n",
      "177:\tlearn: 0.1267689\ttotal: 1.2s\tremaining: 5.54s\n",
      "178:\tlearn: 0.1266252\ttotal: 1.2s\tremaining: 5.52s\n",
      "179:\tlearn: 0.1264758\ttotal: 1.21s\tremaining: 5.51s\n",
      "180:\tlearn: 0.1263117\ttotal: 1.21s\tremaining: 5.49s\n",
      "181:\tlearn: 0.1261270\ttotal: 1.22s\tremaining: 5.47s\n",
      "182:\tlearn: 0.1259295\ttotal: 1.23s\tremaining: 5.47s\n",
      "183:\tlearn: 0.1257403\ttotal: 1.23s\tremaining: 5.46s\n",
      "184:\tlearn: 0.1256541\ttotal: 1.23s\tremaining: 5.44s\n",
      "185:\tlearn: 0.1254345\ttotal: 1.24s\tremaining: 5.42s\n",
      "186:\tlearn: 0.1253131\ttotal: 1.24s\tremaining: 5.41s\n",
      "187:\tlearn: 0.1251749\ttotal: 1.25s\tremaining: 5.4s\n",
      "188:\tlearn: 0.1250102\ttotal: 1.26s\tremaining: 5.39s\n",
      "189:\tlearn: 0.1248085\ttotal: 1.26s\tremaining: 5.39s\n",
      "190:\tlearn: 0.1246699\ttotal: 1.27s\tremaining: 5.38s\n",
      "191:\tlearn: 0.1245564\ttotal: 1.27s\tremaining: 5.36s\n",
      "192:\tlearn: 0.1243893\ttotal: 1.28s\tremaining: 5.35s\n",
      "193:\tlearn: 0.1242260\ttotal: 1.29s\tremaining: 5.35s\n",
      "194:\tlearn: 0.1240599\ttotal: 1.29s\tremaining: 5.33s\n",
      "195:\tlearn: 0.1238750\ttotal: 1.3s\tremaining: 5.32s\n",
      "196:\tlearn: 0.1236869\ttotal: 1.31s\tremaining: 5.33s\n",
      "197:\tlearn: 0.1235450\ttotal: 1.31s\tremaining: 5.32s\n",
      "198:\tlearn: 0.1234004\ttotal: 1.32s\tremaining: 5.31s\n",
      "199:\tlearn: 0.1232997\ttotal: 1.33s\tremaining: 5.32s\n",
      "200:\tlearn: 0.1231941\ttotal: 1.34s\tremaining: 5.32s\n",
      "201:\tlearn: 0.1230641\ttotal: 1.34s\tremaining: 5.32s\n",
      "202:\tlearn: 0.1229102\ttotal: 1.36s\tremaining: 5.33s\n",
      "203:\tlearn: 0.1228030\ttotal: 1.36s\tremaining: 5.31s\n",
      "204:\tlearn: 0.1225915\ttotal: 1.37s\tremaining: 5.3s\n",
      "205:\tlearn: 0.1224906\ttotal: 1.37s\tremaining: 5.29s\n",
      "206:\tlearn: 0.1222490\ttotal: 1.38s\tremaining: 5.28s\n",
      "207:\tlearn: 0.1221541\ttotal: 1.38s\tremaining: 5.26s\n",
      "208:\tlearn: 0.1220377\ttotal: 1.39s\tremaining: 5.26s\n",
      "209:\tlearn: 0.1218931\ttotal: 1.39s\tremaining: 5.25s\n",
      "210:\tlearn: 0.1217153\ttotal: 1.4s\tremaining: 5.23s\n",
      "211:\tlearn: 0.1215208\ttotal: 1.4s\tremaining: 5.22s\n",
      "212:\tlearn: 0.1213294\ttotal: 1.41s\tremaining: 5.21s\n",
      "213:\tlearn: 0.1211841\ttotal: 1.42s\tremaining: 5.21s\n",
      "214:\tlearn: 0.1210007\ttotal: 1.43s\tremaining: 5.2s\n",
      "215:\tlearn: 0.1208129\ttotal: 1.43s\tremaining: 5.19s\n",
      "216:\tlearn: 0.1206636\ttotal: 1.44s\tremaining: 5.19s\n",
      "217:\tlearn: 0.1204736\ttotal: 1.44s\tremaining: 5.18s\n",
      "218:\tlearn: 0.1203124\ttotal: 1.45s\tremaining: 5.18s\n",
      "219:\tlearn: 0.1201523\ttotal: 1.46s\tremaining: 5.17s\n",
      "220:\tlearn: 0.1199435\ttotal: 1.47s\tremaining: 5.17s\n",
      "221:\tlearn: 0.1197994\ttotal: 1.47s\tremaining: 5.16s\n",
      "222:\tlearn: 0.1197274\ttotal: 1.48s\tremaining: 5.14s\n",
      "223:\tlearn: 0.1195601\ttotal: 1.48s\tremaining: 5.13s\n",
      "224:\tlearn: 0.1194546\ttotal: 1.49s\tremaining: 5.12s\n",
      "225:\tlearn: 0.1193075\ttotal: 1.49s\tremaining: 5.11s\n",
      "226:\tlearn: 0.1192557\ttotal: 1.5s\tremaining: 5.1s\n",
      "227:\tlearn: 0.1191019\ttotal: 1.5s\tremaining: 5.08s\n",
      "228:\tlearn: 0.1189549\ttotal: 1.51s\tremaining: 5.08s\n",
      "229:\tlearn: 0.1188322\ttotal: 1.51s\tremaining: 5.07s\n",
      "230:\tlearn: 0.1186564\ttotal: 1.52s\tremaining: 5.05s\n",
      "231:\tlearn: 0.1186057\ttotal: 1.52s\tremaining: 5.04s\n",
      "232:\tlearn: 0.1185188\ttotal: 1.53s\tremaining: 5.04s\n",
      "233:\tlearn: 0.1184242\ttotal: 1.54s\tremaining: 5.03s\n",
      "234:\tlearn: 0.1182883\ttotal: 1.54s\tremaining: 5.03s\n",
      "235:\tlearn: 0.1180597\ttotal: 1.55s\tremaining: 5.02s\n",
      "236:\tlearn: 0.1180385\ttotal: 1.55s\tremaining: 5s\n",
      "237:\tlearn: 0.1178473\ttotal: 1.56s\tremaining: 4.99s\n",
      "238:\tlearn: 0.1176429\ttotal: 1.56s\tremaining: 4.98s\n",
      "239:\tlearn: 0.1175554\ttotal: 1.57s\tremaining: 4.97s\n",
      "240:\tlearn: 0.1174266\ttotal: 1.57s\tremaining: 4.96s\n",
      "241:\tlearn: 0.1173078\ttotal: 1.58s\tremaining: 4.95s\n",
      "242:\tlearn: 0.1172211\ttotal: 1.58s\tremaining: 4.94s\n",
      "243:\tlearn: 0.1171323\ttotal: 1.59s\tremaining: 4.93s\n",
      "244:\tlearn: 0.1168850\ttotal: 1.59s\tremaining: 4.92s\n",
      "245:\tlearn: 0.1167412\ttotal: 1.6s\tremaining: 4.91s\n",
      "246:\tlearn: 0.1165354\ttotal: 1.6s\tremaining: 4.89s\n",
      "247:\tlearn: 0.1164556\ttotal: 1.61s\tremaining: 4.88s\n",
      "248:\tlearn: 0.1163615\ttotal: 1.61s\tremaining: 4.87s\n",
      "249:\tlearn: 0.1161240\ttotal: 1.62s\tremaining: 4.86s\n",
      "250:\tlearn: 0.1160505\ttotal: 1.63s\tremaining: 4.85s\n",
      "251:\tlearn: 0.1158976\ttotal: 1.63s\tremaining: 4.84s\n",
      "252:\tlearn: 0.1157711\ttotal: 1.64s\tremaining: 4.83s\n",
      "253:\tlearn: 0.1156699\ttotal: 1.64s\tremaining: 4.82s\n",
      "254:\tlearn: 0.1155853\ttotal: 1.65s\tremaining: 4.81s\n",
      "255:\tlearn: 0.1154450\ttotal: 1.65s\tremaining: 4.8s\n",
      "256:\tlearn: 0.1152677\ttotal: 1.66s\tremaining: 4.79s\n",
      "257:\tlearn: 0.1151613\ttotal: 1.67s\tremaining: 4.79s\n",
      "258:\tlearn: 0.1150637\ttotal: 1.68s\tremaining: 4.8s\n",
      "259:\tlearn: 0.1148673\ttotal: 1.69s\tremaining: 4.82s\n",
      "260:\tlearn: 0.1147035\ttotal: 1.72s\tremaining: 4.86s\n",
      "261:\tlearn: 0.1145229\ttotal: 1.74s\tremaining: 4.9s\n",
      "262:\tlearn: 0.1143873\ttotal: 1.76s\tremaining: 4.92s\n",
      "263:\tlearn: 0.1143069\ttotal: 1.78s\tremaining: 4.96s\n",
      "264:\tlearn: 0.1142296\ttotal: 1.81s\tremaining: 5.01s\n",
      "265:\tlearn: 0.1141076\ttotal: 1.82s\tremaining: 5.03s\n",
      "266:\tlearn: 0.1139461\ttotal: 1.83s\tremaining: 5.03s\n",
      "267:\tlearn: 0.1138690\ttotal: 1.85s\tremaining: 5.05s\n",
      "268:\tlearn: 0.1137138\ttotal: 1.85s\tremaining: 5.04s\n",
      "269:\tlearn: 0.1136781\ttotal: 1.86s\tremaining: 5.04s\n",
      "270:\tlearn: 0.1134567\ttotal: 1.87s\tremaining: 5.03s\n",
      "271:\tlearn: 0.1132868\ttotal: 1.88s\tremaining: 5.02s\n",
      "272:\tlearn: 0.1131828\ttotal: 1.88s\tremaining: 5.01s\n",
      "273:\tlearn: 0.1130412\ttotal: 1.89s\tremaining: 5s\n",
      "274:\tlearn: 0.1129440\ttotal: 1.89s\tremaining: 5s\n",
      "275:\tlearn: 0.1128900\ttotal: 1.9s\tremaining: 4.99s\n",
      "276:\tlearn: 0.1127972\ttotal: 1.91s\tremaining: 4.98s\n",
      "277:\tlearn: 0.1126190\ttotal: 1.92s\tremaining: 4.99s\n",
      "278:\tlearn: 0.1124959\ttotal: 1.92s\tremaining: 4.97s\n",
      "279:\tlearn: 0.1123653\ttotal: 1.93s\tremaining: 4.96s\n",
      "280:\tlearn: 0.1123146\ttotal: 1.94s\tremaining: 4.96s\n",
      "281:\tlearn: 0.1122229\ttotal: 1.94s\tremaining: 4.95s\n",
      "282:\tlearn: 0.1121029\ttotal: 1.95s\tremaining: 4.94s\n",
      "283:\tlearn: 0.1120361\ttotal: 1.96s\tremaining: 4.93s\n",
      "284:\tlearn: 0.1119533\ttotal: 1.96s\tremaining: 4.92s\n",
      "285:\tlearn: 0.1118371\ttotal: 1.97s\tremaining: 4.91s\n",
      "286:\tlearn: 0.1116756\ttotal: 1.97s\tremaining: 4.9s\n",
      "287:\tlearn: 0.1115966\ttotal: 1.98s\tremaining: 4.88s\n",
      "288:\tlearn: 0.1114432\ttotal: 1.98s\tremaining: 4.87s\n",
      "289:\tlearn: 0.1112775\ttotal: 1.99s\tremaining: 4.86s\n",
      "290:\tlearn: 0.1111423\ttotal: 1.99s\tremaining: 4.85s\n",
      "291:\tlearn: 0.1110012\ttotal: 2s\tremaining: 4.84s\n",
      "292:\tlearn: 0.1109264\ttotal: 2s\tremaining: 4.83s\n",
      "293:\tlearn: 0.1108167\ttotal: 2.01s\tremaining: 4.82s\n",
      "294:\tlearn: 0.1107466\ttotal: 2.01s\tremaining: 4.81s\n",
      "295:\tlearn: 0.1107090\ttotal: 2.02s\tremaining: 4.79s\n",
      "296:\tlearn: 0.1106436\ttotal: 2.02s\tremaining: 4.79s\n",
      "297:\tlearn: 0.1105513\ttotal: 2.03s\tremaining: 4.77s\n",
      "298:\tlearn: 0.1104681\ttotal: 2.03s\tremaining: 4.76s\n",
      "299:\tlearn: 0.1103996\ttotal: 2.03s\tremaining: 4.75s\n",
      "300:\tlearn: 0.1102984\ttotal: 2.04s\tremaining: 4.73s\n",
      "301:\tlearn: 0.1101602\ttotal: 2.04s\tremaining: 4.72s\n",
      "302:\tlearn: 0.1101116\ttotal: 2.05s\tremaining: 4.71s\n",
      "303:\tlearn: 0.1100240\ttotal: 2.05s\tremaining: 4.7s\n",
      "304:\tlearn: 0.1099381\ttotal: 2.06s\tremaining: 4.69s\n",
      "305:\tlearn: 0.1098242\ttotal: 2.06s\tremaining: 4.68s\n",
      "306:\tlearn: 0.1097383\ttotal: 2.07s\tremaining: 4.67s\n",
      "307:\tlearn: 0.1096783\ttotal: 2.07s\tremaining: 4.66s\n",
      "308:\tlearn: 0.1095757\ttotal: 2.08s\tremaining: 4.65s\n",
      "309:\tlearn: 0.1095109\ttotal: 2.08s\tremaining: 4.64s\n",
      "310:\tlearn: 0.1093907\ttotal: 2.09s\tremaining: 4.63s\n",
      "311:\tlearn: 0.1092490\ttotal: 2.09s\tremaining: 4.62s\n",
      "312:\tlearn: 0.1090966\ttotal: 2.1s\tremaining: 4.61s\n",
      "313:\tlearn: 0.1089395\ttotal: 2.1s\tremaining: 4.59s\n",
      "314:\tlearn: 0.1087875\ttotal: 2.11s\tremaining: 4.58s\n",
      "315:\tlearn: 0.1086793\ttotal: 2.11s\tremaining: 4.57s\n",
      "316:\tlearn: 0.1085993\ttotal: 2.12s\tremaining: 4.56s\n",
      "317:\tlearn: 0.1085691\ttotal: 2.12s\tremaining: 4.55s\n",
      "318:\tlearn: 0.1084380\ttotal: 2.13s\tremaining: 4.55s\n",
      "319:\tlearn: 0.1083358\ttotal: 2.14s\tremaining: 4.55s\n",
      "320:\tlearn: 0.1082175\ttotal: 2.14s\tremaining: 4.54s\n",
      "321:\tlearn: 0.1081368\ttotal: 2.15s\tremaining: 4.53s\n",
      "322:\tlearn: 0.1080231\ttotal: 2.15s\tremaining: 4.51s\n",
      "323:\tlearn: 0.1079077\ttotal: 2.16s\tremaining: 4.5s\n",
      "324:\tlearn: 0.1077052\ttotal: 2.16s\tremaining: 4.5s\n",
      "325:\tlearn: 0.1076154\ttotal: 2.17s\tremaining: 4.49s\n",
      "326:\tlearn: 0.1075323\ttotal: 2.17s\tremaining: 4.48s\n",
      "327:\tlearn: 0.1074255\ttotal: 2.18s\tremaining: 4.46s\n",
      "328:\tlearn: 0.1072988\ttotal: 2.18s\tremaining: 4.45s\n",
      "329:\tlearn: 0.1072371\ttotal: 2.19s\tremaining: 4.44s\n",
      "330:\tlearn: 0.1071017\ttotal: 2.19s\tremaining: 4.43s\n",
      "331:\tlearn: 0.1069954\ttotal: 2.2s\tremaining: 4.42s\n",
      "332:\tlearn: 0.1068922\ttotal: 2.2s\tremaining: 4.41s\n",
      "333:\tlearn: 0.1067059\ttotal: 2.21s\tremaining: 4.4s\n",
      "334:\tlearn: 0.1066041\ttotal: 2.21s\tremaining: 4.39s\n",
      "335:\tlearn: 0.1065468\ttotal: 2.22s\tremaining: 4.38s\n",
      "336:\tlearn: 0.1064979\ttotal: 2.22s\tremaining: 4.37s\n",
      "337:\tlearn: 0.1063462\ttotal: 2.23s\tremaining: 4.37s\n",
      "338:\tlearn: 0.1062170\ttotal: 2.24s\tremaining: 4.37s\n",
      "339:\tlearn: 0.1061329\ttotal: 2.24s\tremaining: 4.36s\n",
      "340:\tlearn: 0.1060690\ttotal: 2.25s\tremaining: 4.34s\n",
      "341:\tlearn: 0.1060561\ttotal: 2.25s\tremaining: 4.33s\n",
      "342:\tlearn: 0.1059767\ttotal: 2.26s\tremaining: 4.33s\n",
      "343:\tlearn: 0.1059072\ttotal: 2.27s\tremaining: 4.32s\n",
      "344:\tlearn: 0.1058127\ttotal: 2.27s\tremaining: 4.31s\n",
      "345:\tlearn: 0.1057380\ttotal: 2.27s\tremaining: 4.3s\n",
      "346:\tlearn: 0.1056736\ttotal: 2.28s\tremaining: 4.29s\n",
      "347:\tlearn: 0.1055193\ttotal: 2.28s\tremaining: 4.28s\n",
      "348:\tlearn: 0.1054608\ttotal: 2.29s\tremaining: 4.27s\n",
      "349:\tlearn: 0.1053802\ttotal: 2.29s\tremaining: 4.26s\n",
      "350:\tlearn: 0.1052531\ttotal: 2.3s\tremaining: 4.25s\n",
      "351:\tlearn: 0.1051180\ttotal: 2.3s\tremaining: 4.24s\n"
     ]
    },
    {
     "name": "stdout",
     "output_type": "stream",
     "text": [
      "352:\tlearn: 0.1049839\ttotal: 2.31s\tremaining: 4.23s\n",
      "353:\tlearn: 0.1048701\ttotal: 2.31s\tremaining: 4.22s\n",
      "354:\tlearn: 0.1047812\ttotal: 2.32s\tremaining: 4.21s\n",
      "355:\tlearn: 0.1046515\ttotal: 2.33s\tremaining: 4.21s\n",
      "356:\tlearn: 0.1045242\ttotal: 2.33s\tremaining: 4.2s\n",
      "357:\tlearn: 0.1044610\ttotal: 2.34s\tremaining: 4.2s\n",
      "358:\tlearn: 0.1043821\ttotal: 2.35s\tremaining: 4.19s\n",
      "359:\tlearn: 0.1042824\ttotal: 2.35s\tremaining: 4.18s\n",
      "360:\tlearn: 0.1042386\ttotal: 2.36s\tremaining: 4.17s\n",
      "361:\tlearn: 0.1041217\ttotal: 2.36s\tremaining: 4.16s\n",
      "362:\tlearn: 0.1040023\ttotal: 2.37s\tremaining: 4.15s\n",
      "363:\tlearn: 0.1038660\ttotal: 2.37s\tremaining: 4.14s\n",
      "364:\tlearn: 0.1037625\ttotal: 2.38s\tremaining: 4.13s\n",
      "365:\tlearn: 0.1036412\ttotal: 2.38s\tremaining: 4.13s\n",
      "366:\tlearn: 0.1035401\ttotal: 2.39s\tremaining: 4.12s\n",
      "367:\tlearn: 0.1033291\ttotal: 2.39s\tremaining: 4.11s\n",
      "368:\tlearn: 0.1031018\ttotal: 2.4s\tremaining: 4.1s\n",
      "369:\tlearn: 0.1030286\ttotal: 2.4s\tremaining: 4.09s\n",
      "370:\tlearn: 0.1029611\ttotal: 2.41s\tremaining: 4.09s\n",
      "371:\tlearn: 0.1027804\ttotal: 2.42s\tremaining: 4.08s\n",
      "372:\tlearn: 0.1026600\ttotal: 2.42s\tremaining: 4.07s\n",
      "373:\tlearn: 0.1025609\ttotal: 2.43s\tremaining: 4.07s\n",
      "374:\tlearn: 0.1024386\ttotal: 2.44s\tremaining: 4.06s\n",
      "375:\tlearn: 0.1024237\ttotal: 2.44s\tremaining: 4.05s\n",
      "376:\tlearn: 0.1023067\ttotal: 2.45s\tremaining: 4.05s\n",
      "377:\tlearn: 0.1021986\ttotal: 2.45s\tremaining: 4.04s\n",
      "378:\tlearn: 0.1020466\ttotal: 2.46s\tremaining: 4.03s\n",
      "379:\tlearn: 0.1019925\ttotal: 2.47s\tremaining: 4.03s\n",
      "380:\tlearn: 0.1019057\ttotal: 2.47s\tremaining: 4.02s\n",
      "381:\tlearn: 0.1017773\ttotal: 2.48s\tremaining: 4.01s\n",
      "382:\tlearn: 0.1016396\ttotal: 2.49s\tremaining: 4s\n",
      "383:\tlearn: 0.1016032\ttotal: 2.49s\tremaining: 4s\n",
      "384:\tlearn: 0.1015122\ttotal: 2.5s\tremaining: 3.99s\n",
      "385:\tlearn: 0.1013722\ttotal: 2.51s\tremaining: 3.99s\n",
      "386:\tlearn: 0.1012839\ttotal: 2.51s\tremaining: 3.98s\n",
      "387:\tlearn: 0.1011579\ttotal: 2.52s\tremaining: 3.98s\n",
      "388:\tlearn: 0.1010313\ttotal: 2.53s\tremaining: 3.98s\n",
      "389:\tlearn: 0.1009092\ttotal: 2.54s\tremaining: 3.97s\n",
      "390:\tlearn: 0.1007725\ttotal: 2.54s\tremaining: 3.96s\n",
      "391:\tlearn: 0.1007062\ttotal: 2.55s\tremaining: 3.95s\n",
      "392:\tlearn: 0.1006472\ttotal: 2.55s\tremaining: 3.94s\n",
      "393:\tlearn: 0.1005943\ttotal: 2.56s\tremaining: 3.94s\n",
      "394:\tlearn: 0.1005049\ttotal: 2.56s\tremaining: 3.93s\n",
      "395:\tlearn: 0.1005040\ttotal: 2.57s\tremaining: 3.92s\n",
      "396:\tlearn: 0.1004056\ttotal: 2.58s\tremaining: 3.91s\n",
      "397:\tlearn: 0.1002679\ttotal: 2.58s\tremaining: 3.9s\n",
      "398:\tlearn: 0.1001353\ttotal: 2.58s\tremaining: 3.89s\n",
      "399:\tlearn: 0.1000265\ttotal: 2.59s\tremaining: 3.89s\n",
      "400:\tlearn: 0.0999661\ttotal: 2.6s\tremaining: 3.88s\n",
      "401:\tlearn: 0.0999128\ttotal: 2.6s\tremaining: 3.88s\n",
      "402:\tlearn: 0.0997595\ttotal: 2.61s\tremaining: 3.87s\n",
      "403:\tlearn: 0.0996893\ttotal: 2.62s\tremaining: 3.86s\n",
      "404:\tlearn: 0.0995998\ttotal: 2.62s\tremaining: 3.85s\n",
      "405:\tlearn: 0.0995043\ttotal: 2.63s\tremaining: 3.84s\n",
      "406:\tlearn: 0.0993774\ttotal: 2.63s\tremaining: 3.83s\n",
      "407:\tlearn: 0.0992938\ttotal: 2.64s\tremaining: 3.83s\n",
      "408:\tlearn: 0.0991830\ttotal: 2.64s\tremaining: 3.82s\n",
      "409:\tlearn: 0.0990954\ttotal: 2.65s\tremaining: 3.81s\n",
      "410:\tlearn: 0.0989904\ttotal: 2.66s\tremaining: 3.81s\n",
      "411:\tlearn: 0.0988020\ttotal: 2.66s\tremaining: 3.8s\n",
      "412:\tlearn: 0.0987207\ttotal: 2.67s\tremaining: 3.79s\n",
      "413:\tlearn: 0.0986500\ttotal: 2.67s\tremaining: 3.79s\n",
      "414:\tlearn: 0.0985538\ttotal: 2.68s\tremaining: 3.78s\n",
      "415:\tlearn: 0.0984934\ttotal: 2.69s\tremaining: 3.77s\n",
      "416:\tlearn: 0.0983663\ttotal: 2.69s\tremaining: 3.76s\n",
      "417:\tlearn: 0.0982641\ttotal: 2.69s\tremaining: 3.75s\n",
      "418:\tlearn: 0.0981671\ttotal: 2.7s\tremaining: 3.75s\n",
      "419:\tlearn: 0.0981067\ttotal: 2.71s\tremaining: 3.74s\n",
      "420:\tlearn: 0.0980574\ttotal: 2.71s\tremaining: 3.73s\n",
      "421:\tlearn: 0.0979736\ttotal: 2.72s\tremaining: 3.72s\n",
      "422:\tlearn: 0.0978888\ttotal: 2.73s\tremaining: 3.72s\n",
      "423:\tlearn: 0.0977905\ttotal: 2.73s\tremaining: 3.71s\n",
      "424:\tlearn: 0.0976818\ttotal: 2.74s\tremaining: 3.71s\n",
      "425:\tlearn: 0.0975015\ttotal: 2.75s\tremaining: 3.7s\n",
      "426:\tlearn: 0.0974477\ttotal: 2.75s\tremaining: 3.69s\n",
      "427:\tlearn: 0.0973390\ttotal: 2.76s\tremaining: 3.69s\n",
      "428:\tlearn: 0.0972744\ttotal: 2.76s\tremaining: 3.68s\n",
      "429:\tlearn: 0.0971144\ttotal: 2.77s\tremaining: 3.67s\n",
      "430:\tlearn: 0.0969853\ttotal: 2.77s\tremaining: 3.66s\n",
      "431:\tlearn: 0.0968395\ttotal: 2.78s\tremaining: 3.66s\n",
      "432:\tlearn: 0.0967292\ttotal: 2.79s\tremaining: 3.65s\n",
      "433:\tlearn: 0.0966214\ttotal: 2.79s\tremaining: 3.64s\n",
      "434:\tlearn: 0.0965337\ttotal: 2.8s\tremaining: 3.64s\n",
      "435:\tlearn: 0.0963981\ttotal: 2.81s\tremaining: 3.63s\n",
      "436:\tlearn: 0.0963096\ttotal: 2.81s\tremaining: 3.62s\n",
      "437:\tlearn: 0.0962004\ttotal: 2.82s\tremaining: 3.61s\n",
      "438:\tlearn: 0.0960106\ttotal: 2.82s\tremaining: 3.6s\n",
      "439:\tlearn: 0.0959233\ttotal: 2.83s\tremaining: 3.6s\n",
      "440:\tlearn: 0.0958466\ttotal: 2.83s\tremaining: 3.59s\n",
      "441:\tlearn: 0.0957776\ttotal: 2.84s\tremaining: 3.58s\n",
      "442:\tlearn: 0.0957086\ttotal: 2.84s\tremaining: 3.57s\n",
      "443:\tlearn: 0.0955924\ttotal: 2.85s\tremaining: 3.57s\n",
      "444:\tlearn: 0.0953788\ttotal: 2.85s\tremaining: 3.56s\n",
      "445:\tlearn: 0.0952351\ttotal: 2.86s\tremaining: 3.56s\n",
      "446:\tlearn: 0.0951583\ttotal: 2.87s\tremaining: 3.55s\n",
      "447:\tlearn: 0.0950316\ttotal: 2.87s\tremaining: 3.54s\n",
      "448:\tlearn: 0.0949353\ttotal: 2.88s\tremaining: 3.53s\n",
      "449:\tlearn: 0.0948331\ttotal: 2.88s\tremaining: 3.52s\n",
      "450:\tlearn: 0.0947340\ttotal: 2.89s\tremaining: 3.52s\n",
      "451:\tlearn: 0.0946691\ttotal: 2.9s\tremaining: 3.51s\n",
      "452:\tlearn: 0.0946125\ttotal: 2.9s\tremaining: 3.5s\n",
      "453:\tlearn: 0.0945403\ttotal: 2.91s\tremaining: 3.5s\n",
      "454:\tlearn: 0.0944415\ttotal: 2.92s\tremaining: 3.49s\n",
      "455:\tlearn: 0.0943514\ttotal: 2.92s\tremaining: 3.48s\n",
      "456:\tlearn: 0.0942440\ttotal: 2.92s\tremaining: 3.48s\n",
      "457:\tlearn: 0.0941514\ttotal: 2.93s\tremaining: 3.47s\n",
      "458:\tlearn: 0.0940990\ttotal: 2.93s\tremaining: 3.46s\n",
      "459:\tlearn: 0.0939974\ttotal: 2.94s\tremaining: 3.45s\n",
      "460:\tlearn: 0.0938255\ttotal: 2.94s\tremaining: 3.44s\n",
      "461:\tlearn: 0.0937218\ttotal: 2.95s\tremaining: 3.44s\n",
      "462:\tlearn: 0.0936492\ttotal: 2.96s\tremaining: 3.43s\n",
      "463:\tlearn: 0.0935528\ttotal: 2.97s\tremaining: 3.43s\n",
      "464:\tlearn: 0.0934400\ttotal: 2.98s\tremaining: 3.42s\n",
      "465:\tlearn: 0.0933357\ttotal: 2.98s\tremaining: 3.42s\n",
      "466:\tlearn: 0.0932342\ttotal: 2.99s\tremaining: 3.41s\n",
      "467:\tlearn: 0.0931785\ttotal: 2.99s\tremaining: 3.4s\n",
      "468:\tlearn: 0.0930817\ttotal: 3s\tremaining: 3.39s\n",
      "469:\tlearn: 0.0929941\ttotal: 3s\tremaining: 3.38s\n",
      "470:\tlearn: 0.0929065\ttotal: 3s\tremaining: 3.38s\n",
      "471:\tlearn: 0.0928048\ttotal: 3.01s\tremaining: 3.37s\n",
      "472:\tlearn: 0.0926680\ttotal: 3.01s\tremaining: 3.36s\n",
      "473:\tlearn: 0.0926068\ttotal: 3.02s\tremaining: 3.35s\n",
      "474:\tlearn: 0.0925486\ttotal: 3.02s\tremaining: 3.34s\n",
      "475:\tlearn: 0.0924614\ttotal: 3.03s\tremaining: 3.33s\n",
      "476:\tlearn: 0.0923793\ttotal: 3.03s\tremaining: 3.33s\n",
      "477:\tlearn: 0.0922814\ttotal: 3.04s\tremaining: 3.32s\n",
      "478:\tlearn: 0.0922072\ttotal: 3.04s\tremaining: 3.31s\n",
      "479:\tlearn: 0.0920746\ttotal: 3.05s\tremaining: 3.3s\n",
      "480:\tlearn: 0.0920016\ttotal: 3.05s\tremaining: 3.29s\n",
      "481:\tlearn: 0.0918281\ttotal: 3.06s\tremaining: 3.29s\n",
      "482:\tlearn: 0.0917499\ttotal: 3.06s\tremaining: 3.28s\n",
      "483:\tlearn: 0.0916485\ttotal: 3.07s\tremaining: 3.27s\n",
      "484:\tlearn: 0.0915507\ttotal: 3.07s\tremaining: 3.26s\n",
      "485:\tlearn: 0.0914259\ttotal: 3.08s\tremaining: 3.25s\n",
      "486:\tlearn: 0.0913199\ttotal: 3.08s\tremaining: 3.25s\n",
      "487:\tlearn: 0.0912344\ttotal: 3.09s\tremaining: 3.24s\n",
      "488:\tlearn: 0.0911414\ttotal: 3.09s\tremaining: 3.23s\n",
      "489:\tlearn: 0.0909854\ttotal: 3.1s\tremaining: 3.23s\n",
      "490:\tlearn: 0.0909308\ttotal: 3.11s\tremaining: 3.22s\n",
      "491:\tlearn: 0.0907594\ttotal: 3.11s\tremaining: 3.21s\n",
      "492:\tlearn: 0.0906337\ttotal: 3.12s\tremaining: 3.21s\n",
      "493:\tlearn: 0.0905007\ttotal: 3.13s\tremaining: 3.2s\n",
      "494:\tlearn: 0.0904229\ttotal: 3.13s\tremaining: 3.19s\n",
      "495:\tlearn: 0.0902685\ttotal: 3.13s\tremaining: 3.19s\n",
      "496:\tlearn: 0.0901979\ttotal: 3.14s\tremaining: 3.18s\n",
      "497:\tlearn: 0.0900281\ttotal: 3.14s\tremaining: 3.17s\n",
      "498:\tlearn: 0.0899443\ttotal: 3.15s\tremaining: 3.16s\n",
      "499:\tlearn: 0.0898473\ttotal: 3.15s\tremaining: 3.15s\n",
      "500:\tlearn: 0.0897222\ttotal: 3.16s\tremaining: 3.15s\n",
      "501:\tlearn: 0.0896694\ttotal: 3.17s\tremaining: 3.14s\n",
      "502:\tlearn: 0.0895986\ttotal: 3.17s\tremaining: 3.13s\n",
      "503:\tlearn: 0.0895446\ttotal: 3.17s\tremaining: 3.13s\n",
      "504:\tlearn: 0.0894734\ttotal: 3.18s\tremaining: 3.12s\n",
      "505:\tlearn: 0.0893189\ttotal: 3.19s\tremaining: 3.11s\n",
      "506:\tlearn: 0.0892400\ttotal: 3.19s\tremaining: 3.1s\n",
      "507:\tlearn: 0.0891622\ttotal: 3.2s\tremaining: 3.1s\n",
      "508:\tlearn: 0.0889974\ttotal: 3.2s\tremaining: 3.09s\n",
      "509:\tlearn: 0.0889437\ttotal: 3.21s\tremaining: 3.08s\n",
      "510:\tlearn: 0.0888808\ttotal: 3.21s\tremaining: 3.07s\n",
      "511:\tlearn: 0.0887282\ttotal: 3.22s\tremaining: 3.06s\n",
      "512:\tlearn: 0.0886404\ttotal: 3.23s\tremaining: 3.06s\n",
      "513:\tlearn: 0.0885501\ttotal: 3.23s\tremaining: 3.05s\n",
      "514:\tlearn: 0.0884241\ttotal: 3.23s\tremaining: 3.05s\n",
      "515:\tlearn: 0.0883718\ttotal: 3.24s\tremaining: 3.04s\n",
      "516:\tlearn: 0.0882857\ttotal: 3.24s\tremaining: 3.03s\n",
      "517:\tlearn: 0.0882397\ttotal: 3.25s\tremaining: 3.02s\n",
      "518:\tlearn: 0.0881427\ttotal: 3.25s\tremaining: 3.01s\n",
      "519:\tlearn: 0.0880639\ttotal: 3.26s\tremaining: 3.01s\n",
      "520:\tlearn: 0.0879823\ttotal: 3.26s\tremaining: 3s\n",
      "521:\tlearn: 0.0879118\ttotal: 3.27s\tremaining: 2.99s\n",
      "522:\tlearn: 0.0878399\ttotal: 3.27s\tremaining: 2.98s\n",
      "523:\tlearn: 0.0877650\ttotal: 3.27s\tremaining: 2.98s\n"
     ]
    },
    {
     "name": "stdout",
     "output_type": "stream",
     "text": [
      "524:\tlearn: 0.0876863\ttotal: 3.28s\tremaining: 2.97s\n",
      "525:\tlearn: 0.0876081\ttotal: 3.29s\tremaining: 2.96s\n",
      "526:\tlearn: 0.0875431\ttotal: 3.29s\tremaining: 2.96s\n",
      "527:\tlearn: 0.0875003\ttotal: 3.3s\tremaining: 2.95s\n",
      "528:\tlearn: 0.0874527\ttotal: 3.31s\tremaining: 2.95s\n",
      "529:\tlearn: 0.0873749\ttotal: 3.31s\tremaining: 2.94s\n",
      "530:\tlearn: 0.0872067\ttotal: 3.32s\tremaining: 2.93s\n",
      "531:\tlearn: 0.0870810\ttotal: 3.33s\tremaining: 2.93s\n",
      "532:\tlearn: 0.0869678\ttotal: 3.33s\tremaining: 2.92s\n",
      "533:\tlearn: 0.0869048\ttotal: 3.34s\tremaining: 2.91s\n",
      "534:\tlearn: 0.0868487\ttotal: 3.34s\tremaining: 2.9s\n",
      "535:\tlearn: 0.0867774\ttotal: 3.35s\tremaining: 2.9s\n",
      "536:\tlearn: 0.0866804\ttotal: 3.35s\tremaining: 2.89s\n",
      "537:\tlearn: 0.0866361\ttotal: 3.36s\tremaining: 2.88s\n",
      "538:\tlearn: 0.0866018\ttotal: 3.36s\tremaining: 2.88s\n",
      "539:\tlearn: 0.0865774\ttotal: 3.37s\tremaining: 2.87s\n",
      "540:\tlearn: 0.0865422\ttotal: 3.37s\tremaining: 2.86s\n",
      "541:\tlearn: 0.0864659\ttotal: 3.38s\tremaining: 2.86s\n",
      "542:\tlearn: 0.0863654\ttotal: 3.39s\tremaining: 2.85s\n",
      "543:\tlearn: 0.0862248\ttotal: 3.39s\tremaining: 2.84s\n",
      "544:\tlearn: 0.0861603\ttotal: 3.4s\tremaining: 2.84s\n",
      "545:\tlearn: 0.0860605\ttotal: 3.4s\tremaining: 2.83s\n",
      "546:\tlearn: 0.0859590\ttotal: 3.41s\tremaining: 2.82s\n",
      "547:\tlearn: 0.0858828\ttotal: 3.41s\tremaining: 2.81s\n",
      "548:\tlearn: 0.0857855\ttotal: 3.42s\tremaining: 2.81s\n",
      "549:\tlearn: 0.0857453\ttotal: 3.42s\tremaining: 2.8s\n",
      "550:\tlearn: 0.0856714\ttotal: 3.43s\tremaining: 2.79s\n",
      "551:\tlearn: 0.0855693\ttotal: 3.43s\tremaining: 2.79s\n",
      "552:\tlearn: 0.0854898\ttotal: 3.44s\tremaining: 2.78s\n",
      "553:\tlearn: 0.0854005\ttotal: 3.44s\tremaining: 2.77s\n",
      "554:\tlearn: 0.0853317\ttotal: 3.45s\tremaining: 2.76s\n",
      "555:\tlearn: 0.0852432\ttotal: 3.45s\tremaining: 2.76s\n",
      "556:\tlearn: 0.0851722\ttotal: 3.46s\tremaining: 2.75s\n",
      "557:\tlearn: 0.0851164\ttotal: 3.46s\tremaining: 2.75s\n",
      "558:\tlearn: 0.0850271\ttotal: 3.47s\tremaining: 2.74s\n",
      "559:\tlearn: 0.0849601\ttotal: 3.48s\tremaining: 2.73s\n",
      "560:\tlearn: 0.0849054\ttotal: 3.48s\tremaining: 2.73s\n",
      "561:\tlearn: 0.0848599\ttotal: 3.49s\tremaining: 2.72s\n",
      "562:\tlearn: 0.0847730\ttotal: 3.5s\tremaining: 2.71s\n",
      "563:\tlearn: 0.0846991\ttotal: 3.5s\tremaining: 2.71s\n",
      "564:\tlearn: 0.0846158\ttotal: 3.51s\tremaining: 2.7s\n",
      "565:\tlearn: 0.0844735\ttotal: 3.51s\tremaining: 2.69s\n",
      "566:\tlearn: 0.0843832\ttotal: 3.52s\tremaining: 2.69s\n",
      "567:\tlearn: 0.0843429\ttotal: 3.52s\tremaining: 2.68s\n",
      "568:\tlearn: 0.0842603\ttotal: 3.53s\tremaining: 2.67s\n",
      "569:\tlearn: 0.0841834\ttotal: 3.54s\tremaining: 2.67s\n",
      "570:\tlearn: 0.0841068\ttotal: 3.54s\tremaining: 2.66s\n",
      "571:\tlearn: 0.0840095\ttotal: 3.54s\tremaining: 2.65s\n",
      "572:\tlearn: 0.0839048\ttotal: 3.55s\tremaining: 2.65s\n",
      "573:\tlearn: 0.0838337\ttotal: 3.56s\tremaining: 2.64s\n",
      "574:\tlearn: 0.0837749\ttotal: 3.56s\tremaining: 2.63s\n",
      "575:\tlearn: 0.0837193\ttotal: 3.57s\tremaining: 2.63s\n",
      "576:\tlearn: 0.0836270\ttotal: 3.57s\tremaining: 2.62s\n",
      "577:\tlearn: 0.0835141\ttotal: 3.58s\tremaining: 2.61s\n",
      "578:\tlearn: 0.0834452\ttotal: 3.59s\tremaining: 2.61s\n",
      "579:\tlearn: 0.0833757\ttotal: 3.59s\tremaining: 2.6s\n",
      "580:\tlearn: 0.0833183\ttotal: 3.6s\tremaining: 2.59s\n",
      "581:\tlearn: 0.0832094\ttotal: 3.6s\tremaining: 2.59s\n",
      "582:\tlearn: 0.0831749\ttotal: 3.6s\tremaining: 2.58s\n",
      "583:\tlearn: 0.0831143\ttotal: 3.61s\tremaining: 2.57s\n",
      "584:\tlearn: 0.0830114\ttotal: 3.62s\tremaining: 2.56s\n",
      "585:\tlearn: 0.0829355\ttotal: 3.62s\tremaining: 2.56s\n",
      "586:\tlearn: 0.0828867\ttotal: 3.63s\tremaining: 2.55s\n",
      "587:\tlearn: 0.0828180\ttotal: 3.63s\tremaining: 2.54s\n",
      "588:\tlearn: 0.0826913\ttotal: 3.63s\tremaining: 2.54s\n",
      "589:\tlearn: 0.0825957\ttotal: 3.64s\tremaining: 2.53s\n",
      "590:\tlearn: 0.0825159\ttotal: 3.64s\tremaining: 2.52s\n",
      "591:\tlearn: 0.0824691\ttotal: 3.65s\tremaining: 2.52s\n",
      "592:\tlearn: 0.0823674\ttotal: 3.65s\tremaining: 2.51s\n",
      "593:\tlearn: 0.0823424\ttotal: 3.66s\tremaining: 2.5s\n",
      "594:\tlearn: 0.0822771\ttotal: 3.67s\tremaining: 2.49s\n",
      "595:\tlearn: 0.0821872\ttotal: 3.67s\tremaining: 2.49s\n",
      "596:\tlearn: 0.0821393\ttotal: 3.68s\tremaining: 2.48s\n",
      "597:\tlearn: 0.0820165\ttotal: 3.68s\tremaining: 2.48s\n",
      "598:\tlearn: 0.0819615\ttotal: 3.69s\tremaining: 2.47s\n",
      "599:\tlearn: 0.0818648\ttotal: 3.7s\tremaining: 2.46s\n",
      "600:\tlearn: 0.0817716\ttotal: 3.7s\tremaining: 2.46s\n",
      "601:\tlearn: 0.0817040\ttotal: 3.71s\tremaining: 2.45s\n",
      "602:\tlearn: 0.0816066\ttotal: 3.71s\tremaining: 2.44s\n",
      "603:\tlearn: 0.0815153\ttotal: 3.72s\tremaining: 2.44s\n",
      "604:\tlearn: 0.0814450\ttotal: 3.72s\tremaining: 2.43s\n",
      "605:\tlearn: 0.0813490\ttotal: 3.73s\tremaining: 2.42s\n",
      "606:\tlearn: 0.0812811\ttotal: 3.73s\tremaining: 2.41s\n",
      "607:\tlearn: 0.0812208\ttotal: 3.73s\tremaining: 2.41s\n",
      "608:\tlearn: 0.0811601\ttotal: 3.74s\tremaining: 2.4s\n",
      "609:\tlearn: 0.0810625\ttotal: 3.74s\tremaining: 2.39s\n",
      "610:\tlearn: 0.0809679\ttotal: 3.75s\tremaining: 2.39s\n",
      "611:\tlearn: 0.0808662\ttotal: 3.75s\tremaining: 2.38s\n",
      "612:\tlearn: 0.0807654\ttotal: 3.76s\tremaining: 2.37s\n",
      "613:\tlearn: 0.0807061\ttotal: 3.76s\tremaining: 2.37s\n",
      "614:\tlearn: 0.0806077\ttotal: 3.77s\tremaining: 2.36s\n",
      "615:\tlearn: 0.0804742\ttotal: 3.77s\tremaining: 2.35s\n",
      "616:\tlearn: 0.0803901\ttotal: 3.77s\tremaining: 2.34s\n",
      "617:\tlearn: 0.0802762\ttotal: 3.78s\tremaining: 2.34s\n",
      "618:\tlearn: 0.0802137\ttotal: 3.79s\tremaining: 2.33s\n",
      "619:\tlearn: 0.0801494\ttotal: 3.79s\tremaining: 2.32s\n",
      "620:\tlearn: 0.0800935\ttotal: 3.8s\tremaining: 2.32s\n",
      "621:\tlearn: 0.0800193\ttotal: 3.8s\tremaining: 2.31s\n",
      "622:\tlearn: 0.0799532\ttotal: 3.81s\tremaining: 2.3s\n",
      "623:\tlearn: 0.0798943\ttotal: 3.81s\tremaining: 2.3s\n",
      "624:\tlearn: 0.0798531\ttotal: 3.82s\tremaining: 2.29s\n",
      "625:\tlearn: 0.0797990\ttotal: 3.82s\tremaining: 2.28s\n",
      "626:\tlearn: 0.0796899\ttotal: 3.83s\tremaining: 2.28s\n",
      "627:\tlearn: 0.0795941\ttotal: 3.83s\tremaining: 2.27s\n",
      "628:\tlearn: 0.0794764\ttotal: 3.83s\tremaining: 2.26s\n",
      "629:\tlearn: 0.0794076\ttotal: 3.84s\tremaining: 2.25s\n",
      "630:\tlearn: 0.0793682\ttotal: 3.84s\tremaining: 2.25s\n",
      "631:\tlearn: 0.0793218\ttotal: 3.85s\tremaining: 2.24s\n",
      "632:\tlearn: 0.0792060\ttotal: 3.85s\tremaining: 2.23s\n",
      "633:\tlearn: 0.0791359\ttotal: 3.86s\tremaining: 2.23s\n",
      "634:\tlearn: 0.0790638\ttotal: 3.86s\tremaining: 2.22s\n",
      "635:\tlearn: 0.0789690\ttotal: 3.87s\tremaining: 2.21s\n",
      "636:\tlearn: 0.0788785\ttotal: 3.88s\tremaining: 2.21s\n",
      "637:\tlearn: 0.0788245\ttotal: 3.88s\tremaining: 2.2s\n",
      "638:\tlearn: 0.0787549\ttotal: 3.89s\tremaining: 2.2s\n",
      "639:\tlearn: 0.0786556\ttotal: 3.89s\tremaining: 2.19s\n",
      "640:\tlearn: 0.0785823\ttotal: 3.9s\tremaining: 2.18s\n",
      "641:\tlearn: 0.0785446\ttotal: 3.91s\tremaining: 2.18s\n",
      "642:\tlearn: 0.0784699\ttotal: 3.91s\tremaining: 2.17s\n",
      "643:\tlearn: 0.0784037\ttotal: 3.92s\tremaining: 2.17s\n",
      "644:\tlearn: 0.0783318\ttotal: 3.92s\tremaining: 2.16s\n",
      "645:\tlearn: 0.0782797\ttotal: 3.93s\tremaining: 2.15s\n",
      "646:\tlearn: 0.0781577\ttotal: 3.93s\tremaining: 2.15s\n",
      "647:\tlearn: 0.0781056\ttotal: 3.95s\tremaining: 2.14s\n",
      "648:\tlearn: 0.0780443\ttotal: 3.96s\tremaining: 2.14s\n",
      "649:\tlearn: 0.0779794\ttotal: 3.97s\tremaining: 2.13s\n",
      "650:\tlearn: 0.0779150\ttotal: 3.97s\tremaining: 2.13s\n",
      "651:\tlearn: 0.0778178\ttotal: 3.98s\tremaining: 2.12s\n",
      "652:\tlearn: 0.0777676\ttotal: 3.98s\tremaining: 2.12s\n",
      "653:\tlearn: 0.0776961\ttotal: 3.99s\tremaining: 2.11s\n",
      "654:\tlearn: 0.0775794\ttotal: 4s\tremaining: 2.1s\n",
      "655:\tlearn: 0.0775152\ttotal: 4s\tremaining: 2.1s\n",
      "656:\tlearn: 0.0774285\ttotal: 4.01s\tremaining: 2.09s\n",
      "657:\tlearn: 0.0773415\ttotal: 4.03s\tremaining: 2.1s\n",
      "658:\tlearn: 0.0772665\ttotal: 4.04s\tremaining: 2.09s\n",
      "659:\tlearn: 0.0771879\ttotal: 4.04s\tremaining: 2.08s\n",
      "660:\tlearn: 0.0771017\ttotal: 4.05s\tremaining: 2.08s\n",
      "661:\tlearn: 0.0770374\ttotal: 4.06s\tremaining: 2.07s\n",
      "662:\tlearn: 0.0769859\ttotal: 4.07s\tremaining: 2.07s\n",
      "663:\tlearn: 0.0768974\ttotal: 4.07s\tremaining: 2.06s\n",
      "664:\tlearn: 0.0768384\ttotal: 4.07s\tremaining: 2.05s\n",
      "665:\tlearn: 0.0767631\ttotal: 4.08s\tremaining: 2.04s\n",
      "666:\tlearn: 0.0766875\ttotal: 4.08s\tremaining: 2.04s\n",
      "667:\tlearn: 0.0766364\ttotal: 4.09s\tremaining: 2.03s\n",
      "668:\tlearn: 0.0765483\ttotal: 4.1s\tremaining: 2.03s\n",
      "669:\tlearn: 0.0765168\ttotal: 4.1s\tremaining: 2.02s\n",
      "670:\tlearn: 0.0764304\ttotal: 4.11s\tremaining: 2.01s\n",
      "671:\tlearn: 0.0763679\ttotal: 4.11s\tremaining: 2.01s\n",
      "672:\tlearn: 0.0763268\ttotal: 4.12s\tremaining: 2s\n",
      "673:\tlearn: 0.0762435\ttotal: 4.13s\tremaining: 2s\n",
      "674:\tlearn: 0.0761745\ttotal: 4.13s\tremaining: 1.99s\n",
      "675:\tlearn: 0.0760959\ttotal: 4.14s\tremaining: 1.98s\n",
      "676:\tlearn: 0.0759800\ttotal: 4.14s\tremaining: 1.98s\n",
      "677:\tlearn: 0.0759331\ttotal: 4.15s\tremaining: 1.97s\n",
      "678:\tlearn: 0.0758828\ttotal: 4.15s\tremaining: 1.96s\n",
      "679:\tlearn: 0.0758040\ttotal: 4.16s\tremaining: 1.96s\n",
      "680:\tlearn: 0.0757644\ttotal: 4.16s\tremaining: 1.95s\n",
      "681:\tlearn: 0.0756886\ttotal: 4.17s\tremaining: 1.94s\n",
      "682:\tlearn: 0.0756291\ttotal: 4.18s\tremaining: 1.94s\n",
      "683:\tlearn: 0.0755446\ttotal: 4.18s\tremaining: 1.93s\n",
      "684:\tlearn: 0.0754575\ttotal: 4.19s\tremaining: 1.93s\n",
      "685:\tlearn: 0.0754094\ttotal: 4.19s\tremaining: 1.92s\n",
      "686:\tlearn: 0.0753579\ttotal: 4.2s\tremaining: 1.91s\n",
      "687:\tlearn: 0.0753019\ttotal: 4.2s\tremaining: 1.91s\n",
      "688:\tlearn: 0.0752645\ttotal: 4.21s\tremaining: 1.9s\n",
      "689:\tlearn: 0.0751901\ttotal: 4.22s\tremaining: 1.89s\n",
      "690:\tlearn: 0.0751363\ttotal: 4.22s\tremaining: 1.89s\n",
      "691:\tlearn: 0.0750685\ttotal: 4.23s\tremaining: 1.88s\n",
      "692:\tlearn: 0.0749771\ttotal: 4.23s\tremaining: 1.87s\n",
      "693:\tlearn: 0.0749327\ttotal: 4.24s\tremaining: 1.87s\n",
      "694:\tlearn: 0.0748249\ttotal: 4.24s\tremaining: 1.86s\n",
      "695:\tlearn: 0.0747435\ttotal: 4.25s\tremaining: 1.85s\n"
     ]
    },
    {
     "name": "stdout",
     "output_type": "stream",
     "text": [
      "696:\tlearn: 0.0746806\ttotal: 4.25s\tremaining: 1.85s\n",
      "697:\tlearn: 0.0746240\ttotal: 4.26s\tremaining: 1.84s\n",
      "698:\tlearn: 0.0745205\ttotal: 4.27s\tremaining: 1.84s\n",
      "699:\tlearn: 0.0744000\ttotal: 4.27s\tremaining: 1.83s\n",
      "700:\tlearn: 0.0743439\ttotal: 4.28s\tremaining: 1.82s\n",
      "701:\tlearn: 0.0742967\ttotal: 4.28s\tremaining: 1.82s\n",
      "702:\tlearn: 0.0742389\ttotal: 4.29s\tremaining: 1.81s\n",
      "703:\tlearn: 0.0741981\ttotal: 4.29s\tremaining: 1.8s\n",
      "704:\tlearn: 0.0741772\ttotal: 4.29s\tremaining: 1.8s\n",
      "705:\tlearn: 0.0741204\ttotal: 4.3s\tremaining: 1.79s\n",
      "706:\tlearn: 0.0740673\ttotal: 4.3s\tremaining: 1.78s\n",
      "707:\tlearn: 0.0740193\ttotal: 4.31s\tremaining: 1.78s\n",
      "708:\tlearn: 0.0739385\ttotal: 4.32s\tremaining: 1.77s\n",
      "709:\tlearn: 0.0738928\ttotal: 4.33s\tremaining: 1.77s\n",
      "710:\tlearn: 0.0738247\ttotal: 4.33s\tremaining: 1.76s\n",
      "711:\tlearn: 0.0737984\ttotal: 4.33s\tremaining: 1.75s\n",
      "712:\tlearn: 0.0736869\ttotal: 4.34s\tremaining: 1.75s\n",
      "713:\tlearn: 0.0736664\ttotal: 4.34s\tremaining: 1.74s\n",
      "714:\tlearn: 0.0736380\ttotal: 4.35s\tremaining: 1.73s\n",
      "715:\tlearn: 0.0736065\ttotal: 4.36s\tremaining: 1.73s\n",
      "716:\tlearn: 0.0735406\ttotal: 4.36s\tremaining: 1.72s\n",
      "717:\tlearn: 0.0734938\ttotal: 4.37s\tremaining: 1.72s\n",
      "718:\tlearn: 0.0733868\ttotal: 4.37s\tremaining: 1.71s\n",
      "719:\tlearn: 0.0733479\ttotal: 4.38s\tremaining: 1.7s\n",
      "720:\tlearn: 0.0732704\ttotal: 4.38s\tremaining: 1.7s\n",
      "721:\tlearn: 0.0732366\ttotal: 4.39s\tremaining: 1.69s\n",
      "722:\tlearn: 0.0732037\ttotal: 4.39s\tremaining: 1.68s\n",
      "723:\tlearn: 0.0731684\ttotal: 4.4s\tremaining: 1.68s\n",
      "724:\tlearn: 0.0730957\ttotal: 4.4s\tremaining: 1.67s\n",
      "725:\tlearn: 0.0730083\ttotal: 4.41s\tremaining: 1.66s\n",
      "726:\tlearn: 0.0729889\ttotal: 4.41s\tremaining: 1.66s\n",
      "727:\tlearn: 0.0729295\ttotal: 4.42s\tremaining: 1.65s\n",
      "728:\tlearn: 0.0728633\ttotal: 4.42s\tremaining: 1.64s\n",
      "729:\tlearn: 0.0728091\ttotal: 4.43s\tremaining: 1.64s\n",
      "730:\tlearn: 0.0726959\ttotal: 4.44s\tremaining: 1.63s\n",
      "731:\tlearn: 0.0726433\ttotal: 4.44s\tremaining: 1.63s\n",
      "732:\tlearn: 0.0725732\ttotal: 4.45s\tremaining: 1.62s\n",
      "733:\tlearn: 0.0725142\ttotal: 4.46s\tremaining: 1.61s\n",
      "734:\tlearn: 0.0724589\ttotal: 4.46s\tremaining: 1.61s\n",
      "735:\tlearn: 0.0723751\ttotal: 4.47s\tremaining: 1.6s\n",
      "736:\tlearn: 0.0722653\ttotal: 4.48s\tremaining: 1.6s\n",
      "737:\tlearn: 0.0722204\ttotal: 4.49s\tremaining: 1.59s\n",
      "738:\tlearn: 0.0721361\ttotal: 4.49s\tremaining: 1.59s\n",
      "739:\tlearn: 0.0720490\ttotal: 4.5s\tremaining: 1.58s\n",
      "740:\tlearn: 0.0720143\ttotal: 4.5s\tremaining: 1.57s\n",
      "741:\tlearn: 0.0719857\ttotal: 4.51s\tremaining: 1.57s\n",
      "742:\tlearn: 0.0719389\ttotal: 4.52s\tremaining: 1.56s\n",
      "743:\tlearn: 0.0718542\ttotal: 4.53s\tremaining: 1.56s\n",
      "744:\tlearn: 0.0717983\ttotal: 4.53s\tremaining: 1.55s\n",
      "745:\tlearn: 0.0716967\ttotal: 4.54s\tremaining: 1.54s\n",
      "746:\tlearn: 0.0716683\ttotal: 4.54s\tremaining: 1.54s\n",
      "747:\tlearn: 0.0715943\ttotal: 4.54s\tremaining: 1.53s\n",
      "748:\tlearn: 0.0715134\ttotal: 4.55s\tremaining: 1.52s\n",
      "749:\tlearn: 0.0714292\ttotal: 4.55s\tremaining: 1.52s\n",
      "750:\tlearn: 0.0713803\ttotal: 4.56s\tremaining: 1.51s\n",
      "751:\tlearn: 0.0713105\ttotal: 4.56s\tremaining: 1.5s\n",
      "752:\tlearn: 0.0712047\ttotal: 4.57s\tremaining: 1.5s\n",
      "753:\tlearn: 0.0711391\ttotal: 4.58s\tremaining: 1.49s\n",
      "754:\tlearn: 0.0710478\ttotal: 4.58s\tremaining: 1.49s\n",
      "755:\tlearn: 0.0710078\ttotal: 4.59s\tremaining: 1.48s\n",
      "756:\tlearn: 0.0709440\ttotal: 4.59s\tremaining: 1.47s\n",
      "757:\tlearn: 0.0708631\ttotal: 4.6s\tremaining: 1.47s\n",
      "758:\tlearn: 0.0708247\ttotal: 4.6s\tremaining: 1.46s\n",
      "759:\tlearn: 0.0707764\ttotal: 4.61s\tremaining: 1.46s\n",
      "760:\tlearn: 0.0707249\ttotal: 4.61s\tremaining: 1.45s\n",
      "761:\tlearn: 0.0706470\ttotal: 4.62s\tremaining: 1.44s\n",
      "762:\tlearn: 0.0706046\ttotal: 4.62s\tremaining: 1.44s\n",
      "763:\tlearn: 0.0705606\ttotal: 4.63s\tremaining: 1.43s\n",
      "764:\tlearn: 0.0705092\ttotal: 4.63s\tremaining: 1.42s\n",
      "765:\tlearn: 0.0704598\ttotal: 4.64s\tremaining: 1.42s\n",
      "766:\tlearn: 0.0703898\ttotal: 4.65s\tremaining: 1.41s\n",
      "767:\tlearn: 0.0703399\ttotal: 4.65s\tremaining: 1.41s\n",
      "768:\tlearn: 0.0702499\ttotal: 4.66s\tremaining: 1.4s\n",
      "769:\tlearn: 0.0702124\ttotal: 4.66s\tremaining: 1.39s\n",
      "770:\tlearn: 0.0701643\ttotal: 4.67s\tremaining: 1.39s\n",
      "771:\tlearn: 0.0700721\ttotal: 4.67s\tremaining: 1.38s\n",
      "772:\tlearn: 0.0700445\ttotal: 4.68s\tremaining: 1.37s\n",
      "773:\tlearn: 0.0699952\ttotal: 4.68s\tremaining: 1.37s\n",
      "774:\tlearn: 0.0699161\ttotal: 4.69s\tremaining: 1.36s\n",
      "775:\tlearn: 0.0698671\ttotal: 4.69s\tremaining: 1.35s\n",
      "776:\tlearn: 0.0697717\ttotal: 4.7s\tremaining: 1.35s\n",
      "777:\tlearn: 0.0697182\ttotal: 4.71s\tremaining: 1.34s\n",
      "778:\tlearn: 0.0696763\ttotal: 4.71s\tremaining: 1.34s\n",
      "779:\tlearn: 0.0696055\ttotal: 4.72s\tremaining: 1.33s\n",
      "780:\tlearn: 0.0695288\ttotal: 4.73s\tremaining: 1.32s\n",
      "781:\tlearn: 0.0694470\ttotal: 4.74s\tremaining: 1.32s\n",
      "782:\tlearn: 0.0693996\ttotal: 4.74s\tremaining: 1.31s\n",
      "783:\tlearn: 0.0693526\ttotal: 4.75s\tremaining: 1.31s\n",
      "784:\tlearn: 0.0692858\ttotal: 4.75s\tremaining: 1.3s\n",
      "785:\tlearn: 0.0691861\ttotal: 4.76s\tremaining: 1.29s\n",
      "786:\tlearn: 0.0691085\ttotal: 4.77s\tremaining: 1.29s\n",
      "787:\tlearn: 0.0690806\ttotal: 4.77s\tremaining: 1.28s\n",
      "788:\tlearn: 0.0689900\ttotal: 4.78s\tremaining: 1.28s\n",
      "789:\tlearn: 0.0689542\ttotal: 4.78s\tremaining: 1.27s\n",
      "790:\tlearn: 0.0689278\ttotal: 4.79s\tremaining: 1.26s\n",
      "791:\tlearn: 0.0688583\ttotal: 4.79s\tremaining: 1.26s\n",
      "792:\tlearn: 0.0687616\ttotal: 4.8s\tremaining: 1.25s\n",
      "793:\tlearn: 0.0686731\ttotal: 4.8s\tremaining: 1.25s\n",
      "794:\tlearn: 0.0686251\ttotal: 4.81s\tremaining: 1.24s\n",
      "795:\tlearn: 0.0685478\ttotal: 4.82s\tremaining: 1.23s\n",
      "796:\tlearn: 0.0685142\ttotal: 4.82s\tremaining: 1.23s\n",
      "797:\tlearn: 0.0684892\ttotal: 4.83s\tremaining: 1.22s\n",
      "798:\tlearn: 0.0683892\ttotal: 4.83s\tremaining: 1.22s\n",
      "799:\tlearn: 0.0683571\ttotal: 4.84s\tremaining: 1.21s\n",
      "800:\tlearn: 0.0683019\ttotal: 4.85s\tremaining: 1.2s\n",
      "801:\tlearn: 0.0682697\ttotal: 4.86s\tremaining: 1.2s\n",
      "802:\tlearn: 0.0682153\ttotal: 4.88s\tremaining: 1.2s\n",
      "803:\tlearn: 0.0681540\ttotal: 4.89s\tremaining: 1.19s\n",
      "804:\tlearn: 0.0680610\ttotal: 4.91s\tremaining: 1.19s\n",
      "805:\tlearn: 0.0679897\ttotal: 4.92s\tremaining: 1.18s\n",
      "806:\tlearn: 0.0679352\ttotal: 4.92s\tremaining: 1.18s\n",
      "807:\tlearn: 0.0678955\ttotal: 4.93s\tremaining: 1.17s\n",
      "808:\tlearn: 0.0678419\ttotal: 4.93s\tremaining: 1.16s\n",
      "809:\tlearn: 0.0677972\ttotal: 4.94s\tremaining: 1.16s\n",
      "810:\tlearn: 0.0677444\ttotal: 4.94s\tremaining: 1.15s\n",
      "811:\tlearn: 0.0676934\ttotal: 4.95s\tremaining: 1.15s\n",
      "812:\tlearn: 0.0676078\ttotal: 4.95s\tremaining: 1.14s\n",
      "813:\tlearn: 0.0675493\ttotal: 4.96s\tremaining: 1.13s\n",
      "814:\tlearn: 0.0675002\ttotal: 4.97s\tremaining: 1.13s\n",
      "815:\tlearn: 0.0674279\ttotal: 4.97s\tremaining: 1.12s\n",
      "816:\tlearn: 0.0673814\ttotal: 4.98s\tremaining: 1.11s\n",
      "817:\tlearn: 0.0673406\ttotal: 4.98s\tremaining: 1.11s\n",
      "818:\tlearn: 0.0672446\ttotal: 4.99s\tremaining: 1.1s\n",
      "819:\tlearn: 0.0671955\ttotal: 5s\tremaining: 1.1s\n",
      "820:\tlearn: 0.0671450\ttotal: 5s\tremaining: 1.09s\n",
      "821:\tlearn: 0.0670485\ttotal: 5s\tremaining: 1.08s\n",
      "822:\tlearn: 0.0669795\ttotal: 5.01s\tremaining: 1.08s\n",
      "823:\tlearn: 0.0669625\ttotal: 5.01s\tremaining: 1.07s\n",
      "824:\tlearn: 0.0668952\ttotal: 5.02s\tremaining: 1.06s\n",
      "825:\tlearn: 0.0668664\ttotal: 5.02s\tremaining: 1.06s\n",
      "826:\tlearn: 0.0668152\ttotal: 5.03s\tremaining: 1.05s\n",
      "827:\tlearn: 0.0667754\ttotal: 5.04s\tremaining: 1.05s\n",
      "828:\tlearn: 0.0667323\ttotal: 5.04s\tremaining: 1.04s\n",
      "829:\tlearn: 0.0666745\ttotal: 5.05s\tremaining: 1.03s\n",
      "830:\tlearn: 0.0666101\ttotal: 5.06s\tremaining: 1.03s\n",
      "831:\tlearn: 0.0665655\ttotal: 5.07s\tremaining: 1.02s\n",
      "832:\tlearn: 0.0665352\ttotal: 5.08s\tremaining: 1.02s\n",
      "833:\tlearn: 0.0664774\ttotal: 5.08s\tremaining: 1.01s\n",
      "834:\tlearn: 0.0663962\ttotal: 5.09s\tremaining: 1.01s\n",
      "835:\tlearn: 0.0663778\ttotal: 5.1s\tremaining: 1s\n",
      "836:\tlearn: 0.0663057\ttotal: 5.11s\tremaining: 995ms\n",
      "837:\tlearn: 0.0662131\ttotal: 5.11s\tremaining: 988ms\n",
      "838:\tlearn: 0.0661725\ttotal: 5.12s\tremaining: 982ms\n",
      "839:\tlearn: 0.0661247\ttotal: 5.12s\tremaining: 976ms\n",
      "840:\tlearn: 0.0660403\ttotal: 5.13s\tremaining: 969ms\n",
      "841:\tlearn: 0.0659775\ttotal: 5.13s\tremaining: 964ms\n",
      "842:\tlearn: 0.0659165\ttotal: 5.14s\tremaining: 957ms\n",
      "843:\tlearn: 0.0658710\ttotal: 5.15s\tremaining: 952ms\n",
      "844:\tlearn: 0.0657962\ttotal: 5.15s\tremaining: 945ms\n",
      "845:\tlearn: 0.0657120\ttotal: 5.16s\tremaining: 939ms\n",
      "846:\tlearn: 0.0656544\ttotal: 5.16s\tremaining: 933ms\n",
      "847:\tlearn: 0.0655939\ttotal: 5.17s\tremaining: 927ms\n",
      "848:\tlearn: 0.0655128\ttotal: 5.17s\tremaining: 920ms\n",
      "849:\tlearn: 0.0654579\ttotal: 5.18s\tremaining: 914ms\n",
      "850:\tlearn: 0.0653788\ttotal: 5.18s\tremaining: 908ms\n",
      "851:\tlearn: 0.0653233\ttotal: 5.19s\tremaining: 902ms\n",
      "852:\tlearn: 0.0652643\ttotal: 5.2s\tremaining: 895ms\n",
      "853:\tlearn: 0.0652003\ttotal: 5.2s\tremaining: 889ms\n",
      "854:\tlearn: 0.0651366\ttotal: 5.2s\tremaining: 883ms\n",
      "855:\tlearn: 0.0650780\ttotal: 5.21s\tremaining: 876ms\n",
      "856:\tlearn: 0.0650246\ttotal: 5.22s\tremaining: 871ms\n",
      "857:\tlearn: 0.0649809\ttotal: 5.22s\tremaining: 865ms\n"
     ]
    },
    {
     "name": "stdout",
     "output_type": "stream",
     "text": [
      "858:\tlearn: 0.0649420\ttotal: 5.23s\tremaining: 859ms\n",
      "859:\tlearn: 0.0649130\ttotal: 5.24s\tremaining: 852ms\n",
      "860:\tlearn: 0.0648324\ttotal: 5.24s\tremaining: 846ms\n",
      "861:\tlearn: 0.0647724\ttotal: 5.25s\tremaining: 840ms\n",
      "862:\tlearn: 0.0646879\ttotal: 5.25s\tremaining: 834ms\n",
      "863:\tlearn: 0.0646512\ttotal: 5.26s\tremaining: 828ms\n",
      "864:\tlearn: 0.0645718\ttotal: 5.26s\tremaining: 822ms\n",
      "865:\tlearn: 0.0644925\ttotal: 5.27s\tremaining: 815ms\n",
      "866:\tlearn: 0.0644153\ttotal: 5.28s\tremaining: 809ms\n",
      "867:\tlearn: 0.0643529\ttotal: 5.28s\tremaining: 803ms\n",
      "868:\tlearn: 0.0642893\ttotal: 5.28s\tremaining: 797ms\n",
      "869:\tlearn: 0.0642318\ttotal: 5.29s\tremaining: 791ms\n",
      "870:\tlearn: 0.0641989\ttotal: 5.29s\tremaining: 784ms\n",
      "871:\tlearn: 0.0641541\ttotal: 5.3s\tremaining: 778ms\n",
      "872:\tlearn: 0.0640583\ttotal: 5.3s\tremaining: 772ms\n",
      "873:\tlearn: 0.0640073\ttotal: 5.31s\tremaining: 765ms\n",
      "874:\tlearn: 0.0639324\ttotal: 5.31s\tremaining: 759ms\n",
      "875:\tlearn: 0.0638547\ttotal: 5.32s\tremaining: 753ms\n",
      "876:\tlearn: 0.0637537\ttotal: 5.33s\tremaining: 747ms\n",
      "877:\tlearn: 0.0636691\ttotal: 5.33s\tremaining: 741ms\n",
      "878:\tlearn: 0.0636281\ttotal: 5.34s\tremaining: 735ms\n",
      "879:\tlearn: 0.0635659\ttotal: 5.34s\tremaining: 729ms\n",
      "880:\tlearn: 0.0635260\ttotal: 5.35s\tremaining: 722ms\n",
      "881:\tlearn: 0.0634420\ttotal: 5.35s\tremaining: 716ms\n",
      "882:\tlearn: 0.0633991\ttotal: 5.36s\tremaining: 710ms\n",
      "883:\tlearn: 0.0633569\ttotal: 5.37s\tremaining: 704ms\n",
      "884:\tlearn: 0.0633256\ttotal: 5.37s\tremaining: 698ms\n",
      "885:\tlearn: 0.0632443\ttotal: 5.38s\tremaining: 692ms\n",
      "886:\tlearn: 0.0631953\ttotal: 5.38s\tremaining: 685ms\n",
      "887:\tlearn: 0.0631799\ttotal: 5.39s\tremaining: 680ms\n",
      "888:\tlearn: 0.0631252\ttotal: 5.39s\tremaining: 673ms\n",
      "889:\tlearn: 0.0630689\ttotal: 5.4s\tremaining: 667ms\n",
      "890:\tlearn: 0.0630191\ttotal: 5.41s\tremaining: 661ms\n",
      "891:\tlearn: 0.0629497\ttotal: 5.41s\tremaining: 655ms\n",
      "892:\tlearn: 0.0628764\ttotal: 5.42s\tremaining: 649ms\n",
      "893:\tlearn: 0.0628221\ttotal: 5.42s\tremaining: 643ms\n",
      "894:\tlearn: 0.0627554\ttotal: 5.43s\tremaining: 637ms\n",
      "895:\tlearn: 0.0626611\ttotal: 5.43s\tremaining: 631ms\n",
      "896:\tlearn: 0.0626022\ttotal: 5.44s\tremaining: 625ms\n",
      "897:\tlearn: 0.0625352\ttotal: 5.44s\tremaining: 618ms\n",
      "898:\tlearn: 0.0624508\ttotal: 5.45s\tremaining: 612ms\n",
      "899:\tlearn: 0.0623806\ttotal: 5.45s\tremaining: 606ms\n",
      "900:\tlearn: 0.0623425\ttotal: 5.46s\tremaining: 600ms\n",
      "901:\tlearn: 0.0622861\ttotal: 5.46s\tremaining: 594ms\n",
      "902:\tlearn: 0.0622468\ttotal: 5.47s\tremaining: 588ms\n",
      "903:\tlearn: 0.0622074\ttotal: 5.47s\tremaining: 581ms\n",
      "904:\tlearn: 0.0621664\ttotal: 5.48s\tremaining: 575ms\n",
      "905:\tlearn: 0.0621003\ttotal: 5.49s\tremaining: 569ms\n",
      "906:\tlearn: 0.0620570\ttotal: 5.49s\tremaining: 563ms\n",
      "907:\tlearn: 0.0620202\ttotal: 5.5s\tremaining: 557ms\n",
      "908:\tlearn: 0.0619558\ttotal: 5.5s\tremaining: 551ms\n",
      "909:\tlearn: 0.0619165\ttotal: 5.51s\tremaining: 545ms\n",
      "910:\tlearn: 0.0618951\ttotal: 5.52s\tremaining: 539ms\n",
      "911:\tlearn: 0.0618823\ttotal: 5.52s\tremaining: 533ms\n",
      "912:\tlearn: 0.0618433\ttotal: 5.53s\tremaining: 527ms\n",
      "913:\tlearn: 0.0617835\ttotal: 5.54s\tremaining: 521ms\n",
      "914:\tlearn: 0.0617453\ttotal: 5.54s\tremaining: 515ms\n",
      "915:\tlearn: 0.0617120\ttotal: 5.55s\tremaining: 509ms\n",
      "916:\tlearn: 0.0616794\ttotal: 5.55s\tremaining: 503ms\n",
      "917:\tlearn: 0.0615950\ttotal: 5.56s\tremaining: 497ms\n",
      "918:\tlearn: 0.0615283\ttotal: 5.57s\tremaining: 491ms\n",
      "919:\tlearn: 0.0614515\ttotal: 5.57s\tremaining: 484ms\n",
      "920:\tlearn: 0.0614135\ttotal: 5.58s\tremaining: 478ms\n",
      "921:\tlearn: 0.0613806\ttotal: 5.58s\tremaining: 472ms\n",
      "922:\tlearn: 0.0613408\ttotal: 5.58s\tremaining: 466ms\n",
      "923:\tlearn: 0.0613030\ttotal: 5.59s\tremaining: 460ms\n",
      "924:\tlearn: 0.0612577\ttotal: 5.59s\tremaining: 454ms\n",
      "925:\tlearn: 0.0612349\ttotal: 5.6s\tremaining: 448ms\n",
      "926:\tlearn: 0.0611755\ttotal: 5.6s\tremaining: 441ms\n",
      "927:\tlearn: 0.0611299\ttotal: 5.61s\tremaining: 435ms\n",
      "928:\tlearn: 0.0610483\ttotal: 5.62s\tremaining: 429ms\n",
      "929:\tlearn: 0.0610287\ttotal: 5.62s\tremaining: 423ms\n",
      "930:\tlearn: 0.0610071\ttotal: 5.63s\tremaining: 417ms\n",
      "931:\tlearn: 0.0609396\ttotal: 5.63s\tremaining: 411ms\n",
      "932:\tlearn: 0.0608963\ttotal: 5.64s\tremaining: 405ms\n",
      "933:\tlearn: 0.0608817\ttotal: 5.64s\tremaining: 399ms\n",
      "934:\tlearn: 0.0608480\ttotal: 5.65s\tremaining: 393ms\n",
      "935:\tlearn: 0.0607858\ttotal: 5.65s\tremaining: 386ms\n",
      "936:\tlearn: 0.0607282\ttotal: 5.66s\tremaining: 380ms\n",
      "937:\tlearn: 0.0607058\ttotal: 5.66s\tremaining: 374ms\n",
      "938:\tlearn: 0.0606288\ttotal: 5.67s\tremaining: 368ms\n",
      "939:\tlearn: 0.0605510\ttotal: 5.67s\tremaining: 362ms\n",
      "940:\tlearn: 0.0605016\ttotal: 5.67s\tremaining: 356ms\n",
      "941:\tlearn: 0.0604603\ttotal: 5.68s\tremaining: 350ms\n",
      "942:\tlearn: 0.0604240\ttotal: 5.68s\tremaining: 344ms\n",
      "943:\tlearn: 0.0603796\ttotal: 5.69s\tremaining: 338ms\n",
      "944:\tlearn: 0.0603552\ttotal: 5.7s\tremaining: 332ms\n",
      "945:\tlearn: 0.0603317\ttotal: 5.7s\tremaining: 325ms\n",
      "946:\tlearn: 0.0602999\ttotal: 5.71s\tremaining: 319ms\n",
      "947:\tlearn: 0.0602560\ttotal: 5.71s\tremaining: 313ms\n",
      "948:\tlearn: 0.0601869\ttotal: 5.71s\tremaining: 307ms\n",
      "949:\tlearn: 0.0600881\ttotal: 5.72s\tremaining: 301ms\n",
      "950:\tlearn: 0.0600264\ttotal: 5.73s\tremaining: 295ms\n",
      "951:\tlearn: 0.0599543\ttotal: 5.73s\tremaining: 289ms\n",
      "952:\tlearn: 0.0599153\ttotal: 5.74s\tremaining: 283ms\n",
      "953:\tlearn: 0.0598550\ttotal: 5.74s\tremaining: 277ms\n",
      "954:\tlearn: 0.0597743\ttotal: 5.75s\tremaining: 271ms\n",
      "955:\tlearn: 0.0597048\ttotal: 5.75s\tremaining: 265ms\n",
      "956:\tlearn: 0.0596596\ttotal: 5.75s\tremaining: 259ms\n",
      "957:\tlearn: 0.0596197\ttotal: 5.76s\tremaining: 253ms\n",
      "958:\tlearn: 0.0595734\ttotal: 5.76s\tremaining: 246ms\n",
      "959:\tlearn: 0.0595225\ttotal: 5.77s\tremaining: 240ms\n",
      "960:\tlearn: 0.0594510\ttotal: 5.77s\tremaining: 234ms\n",
      "961:\tlearn: 0.0594039\ttotal: 5.78s\tremaining: 228ms\n",
      "962:\tlearn: 0.0593420\ttotal: 5.78s\tremaining: 222ms\n",
      "963:\tlearn: 0.0593032\ttotal: 5.79s\tremaining: 216ms\n",
      "964:\tlearn: 0.0592654\ttotal: 5.79s\tremaining: 210ms\n",
      "965:\tlearn: 0.0592206\ttotal: 5.8s\tremaining: 204ms\n",
      "966:\tlearn: 0.0591891\ttotal: 5.8s\tremaining: 198ms\n",
      "967:\tlearn: 0.0591379\ttotal: 5.81s\tremaining: 192ms\n",
      "968:\tlearn: 0.0590754\ttotal: 5.81s\tremaining: 186ms\n",
      "969:\tlearn: 0.0590157\ttotal: 5.82s\tremaining: 180ms\n",
      "970:\tlearn: 0.0589710\ttotal: 5.82s\tremaining: 174ms\n",
      "971:\tlearn: 0.0589281\ttotal: 5.83s\tremaining: 168ms\n",
      "972:\tlearn: 0.0588746\ttotal: 5.83s\tremaining: 162ms\n",
      "973:\tlearn: 0.0588252\ttotal: 5.84s\tremaining: 156ms\n",
      "974:\tlearn: 0.0587819\ttotal: 5.85s\tremaining: 150ms\n",
      "975:\tlearn: 0.0587261\ttotal: 5.86s\tremaining: 144ms\n",
      "976:\tlearn: 0.0586917\ttotal: 5.86s\tremaining: 138ms\n",
      "977:\tlearn: 0.0586695\ttotal: 5.87s\tremaining: 132ms\n",
      "978:\tlearn: 0.0586102\ttotal: 5.87s\tremaining: 126ms\n",
      "979:\tlearn: 0.0585687\ttotal: 5.88s\tremaining: 120ms\n",
      "980:\tlearn: 0.0585146\ttotal: 5.88s\tremaining: 114ms\n",
      "981:\tlearn: 0.0584531\ttotal: 5.89s\tremaining: 108ms\n",
      "982:\tlearn: 0.0583813\ttotal: 5.89s\tremaining: 102ms\n",
      "983:\tlearn: 0.0583258\ttotal: 5.9s\tremaining: 95.9ms\n",
      "984:\tlearn: 0.0582635\ttotal: 5.9s\tremaining: 89.9ms\n",
      "985:\tlearn: 0.0582348\ttotal: 5.91s\tremaining: 83.9ms\n",
      "986:\tlearn: 0.0582143\ttotal: 5.91s\tremaining: 77.9ms\n",
      "987:\tlearn: 0.0581614\ttotal: 5.92s\tremaining: 71.9ms\n",
      "988:\tlearn: 0.0581049\ttotal: 5.92s\tremaining: 65.9ms\n",
      "989:\tlearn: 0.0580681\ttotal: 5.93s\tremaining: 59.9ms\n",
      "990:\tlearn: 0.0580287\ttotal: 5.93s\tremaining: 53.9ms\n",
      "991:\tlearn: 0.0579773\ttotal: 5.94s\tremaining: 47.9ms\n",
      "992:\tlearn: 0.0579547\ttotal: 5.94s\tremaining: 41.9ms\n",
      "993:\tlearn: 0.0578839\ttotal: 5.95s\tremaining: 35.9ms\n",
      "994:\tlearn: 0.0578473\ttotal: 5.95s\tremaining: 29.9ms\n",
      "995:\tlearn: 0.0577899\ttotal: 5.96s\tremaining: 23.9ms\n",
      "996:\tlearn: 0.0577497\ttotal: 5.96s\tremaining: 17.9ms\n",
      "997:\tlearn: 0.0577187\ttotal: 5.97s\tremaining: 12ms\n",
      "998:\tlearn: 0.0576620\ttotal: 5.97s\tremaining: 5.98ms\n",
      "999:\tlearn: 0.0576190\ttotal: 5.98s\tremaining: 0us\n"
     ]
    },
    {
     "data": {
      "text/plain": [
       "{'Logistic Regression': 0.9363992172211351,\n",
       " 'KNN': 0.9393346379647749,\n",
       " 'Random Forest': 0.9393346379647749,\n",
       " 'Decision Tree': 0.9168297455968689,\n",
       " 'AdaBoost': 0.9393346379647749,\n",
       " 'XGBoost': 0.9383561643835616,\n",
       " 'CatBoost': 0.9383561643835616}"
      ]
     },
     "execution_count": 22,
     "metadata": {},
     "output_type": "execute_result"
    }
   ],
   "source": [
    "model_scores = fit_and_score(models=models,\n",
    "                             X_train=X_train,\n",
    "                             X_test=X_test,\n",
    "                             y_train=y_train,\n",
    "                             y_test=y_test)\n",
    "\n",
    "model_scores"
   ]
  },
  {
   "cell_type": "code",
   "execution_count": 23,
   "id": "e71c852f",
   "metadata": {},
   "outputs": [
    {
     "data": {
      "image/png": "[encoded data removed]",
      "text/plain": [
       "<Figure size 432x288 with 1 Axes>"
      ]
     },
     "metadata": {
      "needs_background": "light"
     },
     "output_type": "display_data"
    }
   ],
   "source": [
    "## Model Comparision\n",
    "model_compare = pd.DataFrame(model_scores, index=[\"accuracy\"])\n",
    "model_compare.T.plot.bar();"
   ]
  },
  {
   "cell_type": "markdown",
   "id": "cc4e9506",
   "metadata": {},
   "source": [
    "Now I got a baseline model... and we know a model's first predictions aren't always what we should based our next steps off. What should we do?\n",
    "\n",
    "Let's look at the following:\n",
    "* Hyperparameter tuning\n",
    "* Feature importance\n",
    "* Confusion matrix\n",
    "* Cross-validation\n",
    "* Precision\n",
    "* Recall\n",
    "* F1 score\n",
    "* Classification report\n",
    "* ROC curve\n",
    "* Area under the curve (AUC)\n",
    "\n",
    "### Hyperparameter tuning (by hand)"
   ]
  },
  {
   "cell_type": "code",
   "execution_count": 24,
   "id": "95a150c0",
   "metadata": {},
   "outputs": [],
   "source": [
    "# Let's tune KNN\n",
    "\n",
    "train_scores = []\n",
    "test_scores = []\n",
    "\n",
    "# Create a list of different values for n_neighbors\n",
    "neighbors = range(1, 21)\n",
    "\n",
    "# Setup KNN instance\n",
    "knn = KNeighborsClassifier()\n",
    "\n",
    "# Loop through different n_neighbors\n",
    "for i in neighbors:\n",
    "    knn.set_params(n_neighbors=i)\n",
    "    \n",
    "    # Fit the algorithm\n",
    "    knn.fit(X_train, y_train)\n",
    "    \n",
    "    # Update the training scores list\n",
    "    train_scores.append(knn.score(X_train, y_train))\n",
    "    \n",
    "    # Update the test scores list\n",
    "    test_scores.append(knn.score(X_test, y_test))"
   ]
  },
  {
   "cell_type": "code",
   "execution_count": 25,
   "id": "d76afd50",
   "metadata": {},
   "outputs": [
    {
     "data": {
      "text/plain": [
       "[1.0,\n",
       " 0.9564579256360078,\n",
       " 0.9567025440313112,\n",
       " 0.9545009784735812,\n",
       " 0.9547455968688845,\n",
       " 0.9542563600782779,\n",
       " 0.9542563600782779,\n",
       " 0.9542563600782779,\n",
       " 0.9542563600782779,\n",
       " 0.9542563600782779,\n",
       " 0.9542563600782779,\n",
       " 0.9542563600782779,\n",
       " 0.9542563600782779,\n",
       " 0.9542563600782779,\n",
       " 0.9542563600782779,\n",
       " 0.9542563600782779,\n",
       " 0.9542563600782779,\n",
       " 0.9542563600782779,\n",
       " 0.9542563600782779,\n",
       " 0.9542563600782779]"
      ]
     },
     "execution_count": 25,
     "metadata": {},
     "output_type": "execute_result"
    }
   ],
   "source": [
    "train_scores"
   ]
  },
  {
   "cell_type": "code",
   "execution_count": 26,
   "id": "e7aeab89",
   "metadata": {},
   "outputs": [
    {
     "data": {
      "text/plain": [
       "[0.9099804305283757,\n",
       " 0.9393346379647749,\n",
       " 0.9403131115459883,\n",
       " 0.9393346379647749,\n",
       " 0.9393346379647749,\n",
       " 0.9393346379647749,\n",
       " 0.9393346379647749,\n",
       " 0.9393346379647749,\n",
       " 0.9393346379647749,\n",
       " 0.9393346379647749,\n",
       " 0.9393346379647749,\n",
       " 0.9393346379647749,\n",
       " 0.9393346379647749,\n",
       " 0.9393346379647749,\n",
       " 0.9393346379647749,\n",
       " 0.9393346379647749,\n",
       " 0.9393346379647749,\n",
       " 0.9393346379647749,\n",
       " 0.9393346379647749,\n",
       " 0.9393346379647749]"
      ]
     },
     "execution_count": 26,
     "metadata": {},
     "output_type": "execute_result"
    }
   ],
   "source": [
    "test_scores"
   ]
  },
  {
   "cell_type": "code",
   "execution_count": 27,
   "id": "e53c7637",
   "metadata": {},
   "outputs": [
    {
     "name": "stdout",
     "output_type": "stream",
     "text": [
      "Maximum KNN score on the test data: 94.03%\n"
     ]
    },
    {
     "data": {
      "image/png": "[encoded data removed]",
      "text/plain": [
       "<Figure size 432x288 with 1 Axes>"
      ]
     },
     "metadata": {
      "needs_background": "light"
     },
     "output_type": "display_data"
    }
   ],
   "source": [
    "plt.plot(neighbors, train_scores, label=\"Train score\")\n",
    "plt.plot(neighbors, test_scores, label=\"Test score\")\n",
    "plt.xticks(np.arange(1, 21, 1))\n",
    "plt.xlabel(\"Number of neighbors\")\n",
    "plt.ylabel(\"Model score\")\n",
    "plt.legend()\n",
    "\n",
    "print(f\"Maximum KNN score on the test data: {max(test_scores)*100:.2f}%\")"
   ]
  },
  {
   "cell_type": "markdown",
   "id": "4743c564",
   "metadata": {},
   "source": [
    "## Hyperparameter tuning with RandomizedSearchCV\n",
    "\n",
    "We're going to tune:\n",
    "* LogisticRegression()\n",
    "* RandomForestClassifier()\n",
    "\n",
    "... using RandomizedSearchCV"
   ]
  },
  {
   "cell_type": "code",
   "execution_count": 28,
   "id": "6bc42ee9",
   "metadata": {},
   "outputs": [],
   "source": [
    "# Create a hyperparameter grid for LogisticRegression\n",
    "log_reg_grid = {\"C\": np.logspace(-4, 4, 20),\n",
    "                \"solver\": [\"liblinear\"]}\n",
    "\n",
    "# Create a hyperparameter grid for RandomForestClassifier\n",
    "rf_grid = {\"n_estimators\": np.arange(10, 1000, 50),\n",
    "           \"max_depth\": [None, 3, 5, 10],\n",
    "           \"min_samples_split\": np.arange(2, 20, 2),\n",
    "           \"min_samples_leaf\": np.arange(1, 20, 2)}"
   ]
  },
  {
   "cell_type": "markdown",
   "id": "34310861",
   "metadata": {},
   "source": [
    "Now we've got hyperparameter grids setup for each of our models, let's tune them using RandomizedSearchCV..."
   ]
  },
  {
   "cell_type": "code",
   "execution_count": 29,
   "id": "7bb1deff",
   "metadata": {},
   "outputs": [
    {
     "name": "stdout",
     "output_type": "stream",
     "text": [
      "Fitting 5 folds for each of 20 candidates, totalling 100 fits\n"
     ]
    },
    {
     "data": {
      "text/html": [
       "<style>#sk-container-id-1 {color: black;background-color: white;}#sk-container-id-1 pre{padding: 0;}#sk-container-id-1 div.sk-toggleable {background-color: white;}#sk-container-id-1 label.sk-toggleable__label {cursor: pointer;display: block;width: 100%;margin-bottom: 0;padding: 0.3em;box-sizing: border-box;text-align: center;}#sk-container-id-1 label.sk-toggleable__label-arrow:before {content: \"▸\";float: left;margin-right: 0.25em;color: #696969;}#sk-container-id-1 label.sk-toggleable__label-arrow:hover:before {color: black;}#sk-container-id-1 div.sk-estimator:hover label.sk-toggleable__label-arrow:before {color: black;}#sk-container-id-1 div.sk-toggleable__content {max-height: 0;max-width: 0;overflow: hidden;text-align: left;background-color: #f0f8ff;}#sk-container-id-1 div.sk-toggleable__content pre {margin: 0.2em;color: black;border-radius: 0.25em;background-color: #f0f8ff;}#sk-container-id-1 input.sk-toggleable__control:checked~div.sk-toggleable__content {max-height: 200px;max-width: 100%;overflow: auto;}#sk-container-id-1 input.sk-toggleable__control:checked~label.sk-toggleable__label-arrow:before {content: \"▾\";}#sk-container-id-1 div.sk-estimator input.sk-toggleable__control:checked~label.sk-toggleable__label {background-color: #d4ebff;}#sk-container-id-1 div.sk-label input.sk-toggleable__control:checked~label.sk-toggleable__label {background-color: #d4ebff;}#sk-container-id-1 input.sk-hidden--visually {border: 0;clip: rect(1px 1px 1px 1px);clip: rect(1px, 1px, 1px, 1px);height: 1px;margin: -1px;overflow: hidden;padding: 0;position: absolute;width: 1px;}#sk-container-id-1 div.sk-estimator {font-family: monospace;background-color: #f0f8ff;border: 1px dotted black;border-radius: 0.25em;box-sizing: border-box;margin-bottom: 0.5em;}#sk-container-id-1 div.sk-estimator:hover {background-color: #d4ebff;}#sk-container-id-1 div.sk-parallel-item::after {content: \"\";width: 100%;border-bottom: 1px solid gray;flex-grow: 1;}#sk-container-id-1 div.sk-label:hover label.sk-toggleable__label {background-color: #d4ebff;}#sk-container-id-1 div.sk-serial::before {content: \"\";position: absolute;border-left: 1px solid gray;box-sizing: border-box;top: 0;bottom: 0;left: 50%;z-index: 0;}#sk-container-id-1 div.sk-serial {display: flex;flex-direction: column;align-items: center;background-color: white;padding-right: 0.2em;padding-left: 0.2em;position: relative;}#sk-container-id-1 div.sk-item {position: relative;z-index: 1;}#sk-container-id-1 div.sk-parallel {display: flex;align-items: stretch;justify-content: center;background-color: white;position: relative;}#sk-container-id-1 div.sk-item::before, #sk-container-id-1 div.sk-parallel-item::before {content: \"\";position: absolute;border-left: 1px solid gray;box-sizing: border-box;top: 0;bottom: 0;left: 50%;z-index: -1;}#sk-container-id-1 div.sk-parallel-item {display: flex;flex-direction: column;z-index: 1;position: relative;background-color: white;}#sk-container-id-1 div.sk-parallel-item:first-child::after {align-self: flex-end;width: 50%;}#sk-container-id-1 div.sk-parallel-item:last-child::after {align-self: flex-start;width: 50%;}#sk-container-id-1 div.sk-parallel-item:only-child::after {width: 0;}#sk-container-id-1 div.sk-dashed-wrapped {border: 1px dashed gray;margin: 0 0.4em 0.5em 0.4em;box-sizing: border-box;padding-bottom: 0.4em;background-color: white;}#sk-container-id-1 div.sk-label label {font-family: monospace;font-weight: bold;display: inline-block;line-height: 1.2em;}#sk-container-id-1 div.sk-label-container {text-align: center;}#sk-container-id-1 div.sk-container {/* jupyter's `normalize.less` sets `[hidden] { display: none; }` but bootstrap.min.css set `[hidden] { display: none !important; }` so we also need the `!important` here to be able to override the default hidden behavior on the sphinx rendered scikit-learn.org. See: https://github.com/scikit-learn/scikit-learn/issues/21755 */display: inline-block !important;position: relative;}#sk-container-id-1 div.sk-text-repr-fallback {display: none;}</style><div id=\"sk-container-id-1\" class=\"sk-top-container\"><div class=\"sk-text-repr-fallback\"><pre>RandomizedSearchCV(cv=5, estimator=LogisticRegression(), n_iter=20,\n",
       "                   param_distributions={&#x27;C&#x27;: array([1.00000000e-04, 2.63665090e-04, 6.95192796e-04, 1.83298071e-03,\n",
       "       4.83293024e-03, 1.27427499e-02, 3.35981829e-02, 8.85866790e-02,\n",
       "       2.33572147e-01, 6.15848211e-01, 1.62377674e+00, 4.28133240e+00,\n",
       "       1.12883789e+01, 2.97635144e+01, 7.84759970e+01, 2.06913808e+02,\n",
       "       5.45559478e+02, 1.43844989e+03, 3.79269019e+03, 1.00000000e+04]),\n",
       "                                        &#x27;solver&#x27;: [&#x27;liblinear&#x27;]},\n",
       "                   verbose=True)</pre><b>In a Jupyter environment, please rerun this cell to show the HTML representation or trust the notebook. <br />On GitHub, the HTML representation is unable to render, please try loading this page with nbviewer.org.</b></div><div class=\"sk-container\" hidden><div class=\"sk-item sk-dashed-wrapped\"><div class=\"sk-label-container\"><div class=\"sk-label sk-toggleable\"><input class=\"sk-toggleable__control sk-hidden--visually\" id=\"sk-estimator-id-1\" type=\"checkbox\" ><label for=\"sk-estimator-id-1\" class=\"sk-toggleable__label sk-toggleable__label-arrow\">RandomizedSearchCV</label><div class=\"sk-toggleable__content\"><pre>RandomizedSearchCV(cv=5, estimator=LogisticRegression(), n_iter=20,\n",
       "                   param_distributions={&#x27;C&#x27;: array([1.00000000e-04, 2.63665090e-04, 6.95192796e-04, 1.83298071e-03,\n",
       "       4.83293024e-03, 1.27427499e-02, 3.35981829e-02, 8.85866790e-02,\n",
       "       2.33572147e-01, 6.15848211e-01, 1.62377674e+00, 4.28133240e+00,\n",
       "       1.12883789e+01, 2.97635144e+01, 7.84759970e+01, 2.06913808e+02,\n",
       "       5.45559478e+02, 1.43844989e+03, 3.79269019e+03, 1.00000000e+04]),\n",
       "                                        &#x27;solver&#x27;: [&#x27;liblinear&#x27;]},\n",
       "                   verbose=True)</pre></div></div></div><div class=\"sk-parallel\"><div class=\"sk-parallel-item\"><div class=\"sk-item\"><div class=\"sk-label-container\"><div class=\"sk-label sk-toggleable\"><input class=\"sk-toggleable__control sk-hidden--visually\" id=\"sk-estimator-id-2\" type=\"checkbox\" ><label for=\"sk-estimator-id-2\" class=\"sk-toggleable__label sk-toggleable__label-arrow\">estimator: LogisticRegression</label><div class=\"sk-toggleable__content\"><pre>LogisticRegression()</pre></div></div></div><div class=\"sk-serial\"><div class=\"sk-item\"><div class=\"sk-estimator sk-toggleable\"><input class=\"sk-toggleable__control sk-hidden--visually\" id=\"sk-estimator-id-3\" type=\"checkbox\" ><label for=\"sk-estimator-id-3\" class=\"sk-toggleable__label sk-toggleable__label-arrow\">LogisticRegression</label><div class=\"sk-toggleable__content\"><pre>LogisticRegression()</pre></div></div></div></div></div></div></div></div></div></div>"
      ],
      "text/plain": [
       "RandomizedSearchCV(cv=5, estimator=LogisticRegression(), n_iter=20,\n",
       "                   param_distributions={'C': array([1.00000000e-04, 2.63665090e-04, 6.95192796e-04, 1.83298071e-03,\n",
       "       4.83293024e-03, 1.27427499e-02, 3.35981829e-02, 8.85866790e-02,\n",
       "       2.33572147e-01, 6.15848211e-01, 1.62377674e+00, 4.28133240e+00,\n",
       "       1.12883789e+01, 2.97635144e+01, 7.84759970e+01, 2.06913808e+02,\n",
       "       5.45559478e+02, 1.43844989e+03, 3.79269019e+03, 1.00000000e+04]),\n",
       "                                        'solver': ['liblinear']},\n",
       "                   verbose=True)"
      ]
     },
     "execution_count": 29,
     "metadata": {},
     "output_type": "execute_result"
    }
   ],
   "source": [
    "# Tune LogisticRegression\n",
    "\n",
    "np.random.seed(42)\n",
    "\n",
    "# Setup random hyperparameter search for LogisticRegression\n",
    "rs_log_reg = RandomizedSearchCV(LogisticRegression(),\n",
    "                                param_distributions=log_reg_grid,\n",
    "                                cv=5,\n",
    "                                n_iter=20,\n",
    "                                verbose=True)\n",
    "\n",
    "# Fit random hyperparameter search model for LogisticRegression\n",
    "rs_log_reg.fit(X_train, y_train)"
   ]
  },
  {
   "cell_type": "code",
   "execution_count": 30,
   "id": "93f49c08",
   "metadata": {},
   "outputs": [
    {
     "data": {
      "text/plain": [
       "{'solver': 'liblinear', 'C': 0.0001}"
      ]
     },
     "execution_count": 30,
     "metadata": {},
     "output_type": "execute_result"
    }
   ],
   "source": [
    "rs_log_reg.best_params_"
   ]
  },
  {
   "cell_type": "code",
   "execution_count": 31,
   "id": "bdaf25f9",
   "metadata": {},
   "outputs": [
    {
     "data": {
      "text/plain": [
       "0.9393346379647749"
      ]
     },
     "execution_count": 31,
     "metadata": {},
     "output_type": "execute_result"
    }
   ],
   "source": [
    "rs_log_reg.score(X_test, y_test)"
   ]
  },
  {
   "cell_type": "markdown",
   "id": "14563f3c",
   "metadata": {},
   "source": [
    "Now we've tuned LogisticRegression(), let's do the same for RandomForestClassifier()..."
   ]
  },
  {
   "cell_type": "code",
   "execution_count": 32,
   "id": "5ed9fe53",
   "metadata": {},
   "outputs": [
    {
     "name": "stdout",
     "output_type": "stream",
     "text": [
      "Fitting 5 folds for each of 20 candidates, totalling 100 fits\n"
     ]
    },
    {
     "data": {
      "text/html": [
       "<style>#sk-container-id-2 {color: black;background-color: white;}#sk-container-id-2 pre{padding: 0;}#sk-container-id-2 div.sk-toggleable {background-color: white;}#sk-container-id-2 label.sk-toggleable__label {cursor: pointer;display: block;width: 100%;margin-bottom: 0;padding: 0.3em;box-sizing: border-box;text-align: center;}#sk-container-id-2 label.sk-toggleable__label-arrow:before {content: \"▸\";float: left;margin-right: 0.25em;color: #696969;}#sk-container-id-2 label.sk-toggleable__label-arrow:hover:before {color: black;}#sk-container-id-2 div.sk-estimator:hover label.sk-toggleable__label-arrow:before {color: black;}#sk-container-id-2 div.sk-toggleable__content {max-height: 0;max-width: 0;overflow: hidden;text-align: left;background-color: #f0f8ff;}#sk-container-id-2 div.sk-toggleable__content pre {margin: 0.2em;color: black;border-radius: 0.25em;background-color: #f0f8ff;}#sk-container-id-2 input.sk-toggleable__control:checked~div.sk-toggleable__content {max-height: 200px;max-width: 100%;overflow: auto;}#sk-container-id-2 input.sk-toggleable__control:checked~label.sk-toggleable__label-arrow:before {content: \"▾\";}#sk-container-id-2 div.sk-estimator input.sk-toggleable__control:checked~label.sk-toggleable__label {background-color: #d4ebff;}#sk-container-id-2 div.sk-label input.sk-toggleable__control:checked~label.sk-toggleable__label {background-color: #d4ebff;}#sk-container-id-2 input.sk-hidden--visually {border: 0;clip: rect(1px 1px 1px 1px);clip: rect(1px, 1px, 1px, 1px);height: 1px;margin: -1px;overflow: hidden;padding: 0;position: absolute;width: 1px;}#sk-container-id-2 div.sk-estimator {font-family: monospace;background-color: #f0f8ff;border: 1px dotted black;border-radius: 0.25em;box-sizing: border-box;margin-bottom: 0.5em;}#sk-container-id-2 div.sk-estimator:hover {background-color: #d4ebff;}#sk-container-id-2 div.sk-parallel-item::after {content: \"\";width: 100%;border-bottom: 1px solid gray;flex-grow: 1;}#sk-container-id-2 div.sk-label:hover label.sk-toggleable__label {background-color: #d4ebff;}#sk-container-id-2 div.sk-serial::before {content: \"\";position: absolute;border-left: 1px solid gray;box-sizing: border-box;top: 0;bottom: 0;left: 50%;z-index: 0;}#sk-container-id-2 div.sk-serial {display: flex;flex-direction: column;align-items: center;background-color: white;padding-right: 0.2em;padding-left: 0.2em;position: relative;}#sk-container-id-2 div.sk-item {position: relative;z-index: 1;}#sk-container-id-2 div.sk-parallel {display: flex;align-items: stretch;justify-content: center;background-color: white;position: relative;}#sk-container-id-2 div.sk-item::before, #sk-container-id-2 div.sk-parallel-item::before {content: \"\";position: absolute;border-left: 1px solid gray;box-sizing: border-box;top: 0;bottom: 0;left: 50%;z-index: -1;}#sk-container-id-2 div.sk-parallel-item {display: flex;flex-direction: column;z-index: 1;position: relative;background-color: white;}#sk-container-id-2 div.sk-parallel-item:first-child::after {align-self: flex-end;width: 50%;}#sk-container-id-2 div.sk-parallel-item:last-child::after {align-self: flex-start;width: 50%;}#sk-container-id-2 div.sk-parallel-item:only-child::after {width: 0;}#sk-container-id-2 div.sk-dashed-wrapped {border: 1px dashed gray;margin: 0 0.4em 0.5em 0.4em;box-sizing: border-box;padding-bottom: 0.4em;background-color: white;}#sk-container-id-2 div.sk-label label {font-family: monospace;font-weight: bold;display: inline-block;line-height: 1.2em;}#sk-container-id-2 div.sk-label-container {text-align: center;}#sk-container-id-2 div.sk-container {/* jupyter's `normalize.less` sets `[hidden] { display: none; }` but bootstrap.min.css set `[hidden] { display: none !important; }` so we also need the `!important` here to be able to override the default hidden behavior on the sphinx rendered scikit-learn.org. See: https://github.com/scikit-learn/scikit-learn/issues/21755 */display: inline-block !important;position: relative;}#sk-container-id-2 div.sk-text-repr-fallback {display: none;}</style><div id=\"sk-container-id-2\" class=\"sk-top-container\"><div class=\"sk-text-repr-fallback\"><pre>RandomizedSearchCV(cv=5, estimator=RandomForestClassifier(), n_iter=20,\n",
       "                   param_distributions={&#x27;max_depth&#x27;: [None, 3, 5, 10],\n",
       "                                        &#x27;min_samples_leaf&#x27;: array([ 1,  3,  5,  7,  9, 11, 13, 15, 17, 19]),\n",
       "                                        &#x27;min_samples_split&#x27;: array([ 2,  4,  6,  8, 10, 12, 14, 16, 18]),\n",
       "                                        &#x27;n_estimators&#x27;: array([ 10,  60, 110, 160, 210, 260, 310, 360, 410, 460, 510, 560, 610,\n",
       "       660, 710, 760, 810, 860, 910, 960])},\n",
       "                   verbose=True)</pre><b>In a Jupyter environment, please rerun this cell to show the HTML representation or trust the notebook. <br />On GitHub, the HTML representation is unable to render, please try loading this page with nbviewer.org.</b></div><div class=\"sk-container\" hidden><div class=\"sk-item sk-dashed-wrapped\"><div class=\"sk-label-container\"><div class=\"sk-label sk-toggleable\"><input class=\"sk-toggleable__control sk-hidden--visually\" id=\"sk-estimator-id-4\" type=\"checkbox\" ><label for=\"sk-estimator-id-4\" class=\"sk-toggleable__label sk-toggleable__label-arrow\">RandomizedSearchCV</label><div class=\"sk-toggleable__content\"><pre>RandomizedSearchCV(cv=5, estimator=RandomForestClassifier(), n_iter=20,\n",
       "                   param_distributions={&#x27;max_depth&#x27;: [None, 3, 5, 10],\n",
       "                                        &#x27;min_samples_leaf&#x27;: array([ 1,  3,  5,  7,  9, 11, 13, 15, 17, 19]),\n",
       "                                        &#x27;min_samples_split&#x27;: array([ 2,  4,  6,  8, 10, 12, 14, 16, 18]),\n",
       "                                        &#x27;n_estimators&#x27;: array([ 10,  60, 110, 160, 210, 260, 310, 360, 410, 460, 510, 560, 610,\n",
       "       660, 710, 760, 810, 860, 910, 960])},\n",
       "                   verbose=True)</pre></div></div></div><div class=\"sk-parallel\"><div class=\"sk-parallel-item\"><div class=\"sk-item\"><div class=\"sk-label-container\"><div class=\"sk-label sk-toggleable\"><input class=\"sk-toggleable__control sk-hidden--visually\" id=\"sk-estimator-id-5\" type=\"checkbox\" ><label for=\"sk-estimator-id-5\" class=\"sk-toggleable__label sk-toggleable__label-arrow\">estimator: RandomForestClassifier</label><div class=\"sk-toggleable__content\"><pre>RandomForestClassifier()</pre></div></div></div><div class=\"sk-serial\"><div class=\"sk-item\"><div class=\"sk-estimator sk-toggleable\"><input class=\"sk-toggleable__control sk-hidden--visually\" id=\"sk-estimator-id-6\" type=\"checkbox\" ><label for=\"sk-estimator-id-6\" class=\"sk-toggleable__label sk-toggleable__label-arrow\">RandomForestClassifier</label><div class=\"sk-toggleable__content\"><pre>RandomForestClassifier()</pre></div></div></div></div></div></div></div></div></div></div>"
      ],
      "text/plain": [
       "RandomizedSearchCV(cv=5, estimator=RandomForestClassifier(), n_iter=20,\n",
       "                   param_distributions={'max_depth': [None, 3, 5, 10],\n",
       "                                        'min_samples_leaf': array([ 1,  3,  5,  7,  9, 11, 13, 15, 17, 19]),\n",
       "                                        'min_samples_split': array([ 2,  4,  6,  8, 10, 12, 14, 16, 18]),\n",
       "                                        'n_estimators': array([ 10,  60, 110, 160, 210, 260, 310, 360, 410, 460, 510, 560, 610,\n",
       "       660, 710, 760, 810, 860, 910, 960])},\n",
       "                   verbose=True)"
      ]
     },
     "execution_count": 32,
     "metadata": {},
     "output_type": "execute_result"
    }
   ],
   "source": [
    "# Setup random seed\n",
    "np.random.seed(42)\n",
    "\n",
    "# Setup random hyperparameter search for RandomForestClassifier\n",
    "rs_rf = RandomizedSearchCV(RandomForestClassifier(), \n",
    "                           param_distributions=rf_grid,\n",
    "                           cv=5,\n",
    "                           n_iter=20,\n",
    "                           verbose=True)\n",
    "\n",
    "# Fit random hyperparameter search model for RandomForestClassifier()\n",
    "rs_rf.fit(X_train, y_train)"
   ]
  },
  {
   "cell_type": "code",
   "execution_count": 33,
   "id": "0c6c5b61",
   "metadata": {},
   "outputs": [
    {
     "data": {
      "text/plain": [
       "{'n_estimators': 10,\n",
       " 'min_samples_split': 16,\n",
       " 'min_samples_leaf': 9,\n",
       " 'max_depth': None}"
      ]
     },
     "execution_count": 33,
     "metadata": {},
     "output_type": "execute_result"
    }
   ],
   "source": [
    "# Find the best hyperparameters\n",
    "rs_rf.best_params_"
   ]
  },
  {
   "cell_type": "code",
   "execution_count": 34,
   "id": "1d505d06",
   "metadata": {},
   "outputs": [
    {
     "data": {
      "text/plain": [
       "0.9393346379647749"
      ]
     },
     "execution_count": 34,
     "metadata": {},
     "output_type": "execute_result"
    }
   ],
   "source": [
    "# Evaluate the randomized search RandomForestClassifier model\n",
    "rs_rf.score(X_test, y_test)"
   ]
  },
  {
   "cell_type": "code",
   "execution_count": 35,
   "id": "38c6b448",
   "metadata": {},
   "outputs": [
    {
     "data": {
      "text/plain": [
       "{'Logistic Regression': 0.9363992172211351,\n",
       " 'KNN': 0.9393346379647749,\n",
       " 'Random Forest': 0.9393346379647749,\n",
       " 'Decision Tree': 0.9168297455968689,\n",
       " 'AdaBoost': 0.9393346379647749,\n",
       " 'XGBoost': 0.9383561643835616,\n",
       " 'CatBoost': 0.9383561643835616}"
      ]
     },
     "execution_count": 35,
     "metadata": {},
     "output_type": "execute_result"
    }
   ],
   "source": [
    "model_scores"
   ]
  },
  {
   "cell_type": "markdown",
   "id": "154cbea0",
   "metadata": {},
   "source": [
    "## Hyperparamter Tuning with GridSearchCV\n",
    "\n",
    "Since our LogisticRegression model provides the best scores so far, we'll try and improve them again using GridSearchCV..."
   ]
  },
  {
   "cell_type": "code",
   "execution_count": 36,
   "id": "3d634044",
   "metadata": {},
   "outputs": [
    {
     "name": "stdout",
     "output_type": "stream",
     "text": [
      "Fitting 5 folds for each of 30 candidates, totalling 150 fits\n"
     ]
    }
   ],
   "source": [
    "# Different hyperparameters for our LogisticRegression model\n",
    "log_reg_grid = {\"C\": np.logspace(-4, 4, 30),\n",
    "                \"solver\": [\"liblinear\"]}\n",
    "\n",
    "# Setup grid hyperparameter search for LogisticRegression\n",
    "gs_log_reg = GridSearchCV(LogisticRegression(),\n",
    "                          param_grid=log_reg_grid,\n",
    "                          cv=5,\n",
    "                          verbose=True)\n",
    "\n",
    "# Fit grid hyperparameter search model\n",
    "gs_log_reg.fit(X_train, y_train);"
   ]
  },
  {
   "cell_type": "code",
   "execution_count": 37,
   "id": "9e2beb2b",
   "metadata": {},
   "outputs": [
    {
     "data": {
      "text/plain": [
       "{'C': 0.0001, 'solver': 'liblinear'}"
      ]
     },
     "execution_count": 37,
     "metadata": {},
     "output_type": "execute_result"
    }
   ],
   "source": [
    "# Check the best hyperparmaters\n",
    "gs_log_reg.best_params_"
   ]
  },
  {
   "cell_type": "code",
   "execution_count": 38,
   "id": "6bc01cef",
   "metadata": {},
   "outputs": [
    {
     "data": {
      "text/plain": [
       "0.9393346379647749"
      ]
     },
     "execution_count": 38,
     "metadata": {},
     "output_type": "execute_result"
    }
   ],
   "source": [
    "# Evaluate the grid search LogisticRegression model\n",
    "gs_log_reg.score(X_test, y_test)"
   ]
  },
  {
   "cell_type": "markdown",
   "id": "79755b68",
   "metadata": {},
   "source": [
    "## Evaluting our tuned machine learning classifier, beyond accuracy\n",
    "\n",
    "* ROC curve and AUC score\n",
    "* Confusion matrix\n",
    "* Classification report\n",
    "* Precision\n",
    "* Recall\n",
    "* F1-score\n",
    "\n",
    "... and it would be great if cross-validation was used where possible.\n",
    "\n",
    "To make comparisons and evaluate our trained model, first we need to make predictions."
   ]
  },
  {
   "cell_type": "code",
   "execution_count": 39,
   "id": "33e6e883",
   "metadata": {},
   "outputs": [],
   "source": [
    "# Make predictions with tuned model\n",
    "y_preds = gs_log_reg.predict(X_test)"
   ]
  },
  {
   "cell_type": "code",
   "execution_count": 40,
   "id": "cb42f917",
   "metadata": {},
   "outputs": [
    {
     "data": {
      "text/plain": [
       "array([0, 0, 0, ..., 0, 0, 0], dtype=int64)"
      ]
     },
     "execution_count": 40,
     "metadata": {},
     "output_type": "execute_result"
    }
   ],
   "source": [
    "y_preds"
   ]
  },
  {
   "cell_type": "code",
   "execution_count": 41,
   "id": "fd66eb9c",
   "metadata": {},
   "outputs": [
    {
     "data": {
      "text/plain": [
       "4688    0\n",
       "4478    0\n",
       "3849    0\n",
       "4355    0\n",
       "3826    0\n",
       "       ..\n",
       "3605    0\n",
       "4934    0\n",
       "4835    0\n",
       "4105    0\n",
       "2902    0\n",
       "Name: stroke, Length: 1022, dtype: int64"
      ]
     },
     "execution_count": 41,
     "metadata": {},
     "output_type": "execute_result"
    }
   ],
   "source": [
    "y_test"
   ]
  },
  {
   "cell_type": "code",
   "execution_count": 42,
   "id": "6e93bf5a",
   "metadata": {},
   "outputs": [
    {
     "name": "stderr",
     "output_type": "stream",
     "text": [
      "c:\\users\\user\\appdata\\local\\programs\\python\\python39\\lib\\site-packages\\sklearn\\utils\\deprecation.py:87: FutureWarning: Function plot_roc_curve is deprecated; Function :func:`plot_roc_curve` is deprecated in 1.0 and will be removed in 1.2. Use one of the class methods: :meth:`sklearn.metric.RocCurveDisplay.from_predictions` or :meth:`sklearn.metric.RocCurveDisplay.from_estimator`.\n",
      "  warnings.warn(msg, category=FutureWarning)\n"
     ]
    },
    {
     "data": {
      "image/png": "[encoded data removed]",
      "text/plain": [
       "<Figure size 432x288 with 1 Axes>"
      ]
     },
     "metadata": {
      "needs_background": "light"
     },
     "output_type": "display_data"
    }
   ],
   "source": [
    "# Plot ROC curve and calculate and calculate AUC metric\n",
    "plot_roc_curve(gs_log_reg, X_test, y_test);"
   ]
  },
  {
   "cell_type": "code",
   "execution_count": 43,
   "id": "dc3753a8",
   "metadata": {},
   "outputs": [
    {
     "name": "stdout",
     "output_type": "stream",
     "text": [
      "[[960   0]\n",
      " [ 62   0]]\n"
     ]
    }
   ],
   "source": [
    "# Confusion matrix\n",
    "print(confusion_matrix(y_test, y_preds))"
   ]
  },
  {
   "cell_type": "code",
   "execution_count": 44,
   "id": "b1ea1d6d",
   "metadata": {},
   "outputs": [
    {
     "data": {
      "image/png": "[encoded data removed]",
      "text/plain": [
       "<Figure size 216x216 with 1 Axes>"
      ]
     },
     "metadata": {},
     "output_type": "display_data"
    }
   ],
   "source": [
    "sns.set(font_scale=1.5)\n",
    "\n",
    "def plot_conf_mat(y_test, y_preds):\n",
    "    \"\"\"\n",
    "    Plots a nice looking confusion matrix using Seaborn's heatmap()\n",
    "    \"\"\"\n",
    "    fig, ax = plt.subplots(figsize=(3, 3))\n",
    "    ax = sns.heatmap(confusion_matrix(y_test, y_preds),\n",
    "                     annot=True,\n",
    "                     cbar=False)\n",
    "    plt.xlabel(\"True label\")\n",
    "    plt.ylabel(\"Predicted label\")\n",
    "    \n",
    "    bottom, top = ax.get_ylim()\n",
    "    ax.set_ylim(bottom + 0.5, top - 0.5)\n",
    "    \n",
    "plot_conf_mat(y_test, y_preds)"
   ]
  },
  {
   "cell_type": "markdown",
   "id": "52d4f3e9",
   "metadata": {},
   "source": [
    "Now we've got a ROC curve, an AUC metric and a confusion matrix, let's get a classification report as well as cross-validated precision, recall and f1-score."
   ]
  },
  {
   "cell_type": "code",
   "execution_count": 45,
   "id": "469495ff",
   "metadata": {},
   "outputs": [
    {
     "name": "stdout",
     "output_type": "stream",
     "text": [
      "              precision    recall  f1-score   support\n",
      "\n",
      "           0       0.94      1.00      0.97       960\n",
      "           1       0.00      0.00      0.00        62\n",
      "\n",
      "    accuracy                           0.94      1022\n",
      "   macro avg       0.47      0.50      0.48      1022\n",
      "weighted avg       0.88      0.94      0.91      1022\n",
      "\n"
     ]
    },
    {
     "name": "stderr",
     "output_type": "stream",
     "text": [
      "c:\\users\\user\\appdata\\local\\programs\\python\\python39\\lib\\site-packages\\sklearn\\metrics\\_classification.py:1327: UndefinedMetricWarning: Precision and F-score are ill-defined and being set to 0.0 in labels with no predicted samples. Use `zero_division` parameter to control this behavior.\n",
      "  _warn_prf(average, modifier, msg_start, len(result))\n",
      "c:\\users\\user\\appdata\\local\\programs\\python\\python39\\lib\\site-packages\\sklearn\\metrics\\_classification.py:1327: UndefinedMetricWarning: Precision and F-score are ill-defined and being set to 0.0 in labels with no predicted samples. Use `zero_division` parameter to control this behavior.\n",
      "  _warn_prf(average, modifier, msg_start, len(result))\n",
      "c:\\users\\user\\appdata\\local\\programs\\python\\python39\\lib\\site-packages\\sklearn\\metrics\\_classification.py:1327: UndefinedMetricWarning: Precision and F-score are ill-defined and being set to 0.0 in labels with no predicted samples. Use `zero_division` parameter to control this behavior.\n",
      "  _warn_prf(average, modifier, msg_start, len(result))\n"
     ]
    }
   ],
   "source": [
    "print(classification_report(y_test, y_preds))"
   ]
  },
  {
   "cell_type": "markdown",
   "id": "fed572fe",
   "metadata": {},
   "source": [
    "### Calculate evaluation metrics using cross-validation\n",
    "\n",
    "We're going to calculate accuracy, precision, recall and f1-score of our model using cross-validation and to do so we'll be using `cross_val_score()`."
   ]
  },
  {
   "cell_type": "code",
   "execution_count": 46,
   "id": "01a79e07",
   "metadata": {},
   "outputs": [
    {
     "data": {
      "text/plain": [
       "{'C': 0.0001, 'solver': 'liblinear'}"
      ]
     },
     "execution_count": 46,
     "metadata": {},
     "output_type": "execute_result"
    }
   ],
   "source": [
    "# Check best hyperparameters\n",
    "gs_log_reg.best_params_"
   ]
  },
  {
   "cell_type": "code",
   "execution_count": 47,
   "id": "e4dba95d",
   "metadata": {},
   "outputs": [],
   "source": [
    "# Create a new classifier with best parameters\n",
    "clf = LogisticRegression(C=0.1,\n",
    "                         solver=\"liblinear\")"
   ]
  },
  {
   "cell_type": "code",
   "execution_count": 48,
   "id": "9bd66b93",
   "metadata": {},
   "outputs": [
    {
     "data": {
      "text/plain": [
       "array([0.95107632, 0.94716243, 0.95205479, 0.94911937, 0.95205479])"
      ]
     },
     "execution_count": 48,
     "metadata": {},
     "output_type": "execute_result"
    }
   ],
   "source": [
    "# Cross-validated accuracy\n",
    "cv_acc = cross_val_score(clf,\n",
    "                         X,\n",
    "                         y,\n",
    "                         cv=5,\n",
    "                         scoring=\"accuracy\")\n",
    "cv_acc"
   ]
  },
  {
   "cell_type": "code",
   "execution_count": 49,
   "id": "0e7eb5bc",
   "metadata": {},
   "outputs": [
    {
     "data": {
      "text/plain": [
       "0.950293542074364"
      ]
     },
     "execution_count": 49,
     "metadata": {},
     "output_type": "execute_result"
    }
   ],
   "source": [
    "cv_acc = np.mean(cv_acc)\n",
    "cv_acc"
   ]
  },
  {
   "cell_type": "code",
   "execution_count": 50,
   "id": "32778345",
   "metadata": {},
   "outputs": [
    {
     "name": "stderr",
     "output_type": "stream",
     "text": [
      "c:\\users\\user\\appdata\\local\\programs\\python\\python39\\lib\\site-packages\\sklearn\\metrics\\_classification.py:1327: UndefinedMetricWarning: Precision is ill-defined and being set to 0.0 due to no predicted samples. Use `zero_division` parameter to control this behavior.\n",
      "  _warn_prf(average, modifier, msg_start, len(result))\n"
     ]
    },
    {
     "data": {
      "text/plain": [
       "0.3"
      ]
     },
     "execution_count": 50,
     "metadata": {},
     "output_type": "execute_result"
    }
   ],
   "source": [
    "# Cross-validated precision\n",
    "cv_precision = cross_val_score(clf,\n",
    "                         X,\n",
    "                         y,\n",
    "                         cv=5,\n",
    "                         scoring=\"precision\")\n",
    "cv_precision=np.mean(cv_precision)\n",
    "cv_precision"
   ]
  },
  {
   "cell_type": "code",
   "execution_count": 51,
   "id": "c8f42310",
   "metadata": {},
   "outputs": [
    {
     "data": {
      "text/plain": [
       "0.008081632653061225"
      ]
     },
     "execution_count": 51,
     "metadata": {},
     "output_type": "execute_result"
    }
   ],
   "source": [
    "# Cross-validated recall\n",
    "cv_recall = cross_val_score(clf,\n",
    "                         X,\n",
    "                         y,\n",
    "                         cv=5,\n",
    "                         scoring=\"recall\")\n",
    "cv_recall =np.mean(cv_recall)\n",
    "cv_recall "
   ]
  },
  {
   "cell_type": "code",
   "execution_count": 52,
   "id": "cada7966",
   "metadata": {},
   "outputs": [
    {
     "data": {
      "text/plain": [
       "0.01568627450980392"
      ]
     },
     "execution_count": 52,
     "metadata": {},
     "output_type": "execute_result"
    }
   ],
   "source": [
    "# Cross-validated precision\n",
    "cv_f1 = cross_val_score(clf,\n",
    "                         X,\n",
    "                         y,\n",
    "                         cv=5,\n",
    "                         scoring=\"f1\")\n",
    "cv_f1 = np.mean(cv_f1)\n",
    "cv_f1"
   ]
  },
  {
   "cell_type": "code",
   "execution_count": 53,
   "id": "aa554a89",
   "metadata": {},
   "outputs": [
    {
     "data": {
      "image/png": "[encoded data removed]",
      "text/plain": [
       "<Figure size 432x288 with 1 Axes>"
      ]
     },
     "metadata": {},
     "output_type": "display_data"
    }
   ],
   "source": [
    "# Visualize cross-validated metrics\n",
    "cv_metrics = pd.DataFrame({\"Accuracy\": cv_acc,\n",
    "                           \"Precision\": cv_precision,\n",
    "                           \"Recall\": cv_recall,\n",
    "                           \"F1\": cv_f1},\n",
    "                          index=[0])\n",
    "\n",
    "cv_metrics.T.plot.bar(title=\"Cross-validated classification metrics\",\n",
    "                      legend=False);"
   ]
  },
  {
   "cell_type": "markdown",
   "id": "e7924873",
   "metadata": {},
   "source": [
    "### Feature Importance\n",
    "\n",
    "Feature importance is another as asking, \"which features contributed most to the outcomes of the model and how did they contribute?\"\n",
    "\n",
    "Finding feature importance is different for each machine learning model. One way to find feature importance is to search for \"(MODEL NAME) feature importance\".\n",
    "\n",
    "Let's find the feature importance for our LogisticRegression model..."
   ]
  },
  {
   "cell_type": "code",
   "execution_count": 54,
   "id": "7e6e4169",
   "metadata": {},
   "outputs": [],
   "source": [
    "# Fit an instance of LogisticRegression\n",
    "clf = LogisticRegression(C=0.20433597178569418,\n",
    "                         solver=\"liblinear\")\n",
    "\n",
    "clf.fit(X_train, y_train);"
   ]
  },
  {
   "cell_type": "code",
   "execution_count": 55,
   "id": "24ca7f08",
   "metadata": {},
   "outputs": [
    {
     "data": {
      "text/plain": [
       "array([[-1.30075091e-05,  4.03421578e-02,  3.81608716e-03,\n",
       "         2.98230739e-03,  8.35296093e-04, -1.65489693e-01,\n",
       "        -3.10473215e-03,  0.00000000e+00, -1.43752166e-04,\n",
       "        -4.23292631e-03, -6.55021307e-04, -4.60629712e-03,\n",
       "        -5.07347762e-03,  2.11685477e-04, -3.97841007e-03,\n",
       "        -7.44263717e-04, -2.74172258e-03]])"
      ]
     },
     "execution_count": 55,
     "metadata": {},
     "output_type": "execute_result"
    }
   ],
   "source": [
    "# Check coef_\n",
    "clf.coef_"
   ]
  },
  {
   "cell_type": "code",
   "execution_count": 56,
   "id": "78fc2197",
   "metadata": {},
   "outputs": [
    {
     "data": {
      "text/html": [
       "<div>\n",
       "<style scoped>\n",
       "    .dataframe tbody tr th:only-of-type {\n",
       "        vertical-align: middle;\n",
       "    }\n",
       "\n",
       "    .dataframe tbody tr th {\n",
       "        vertical-align: top;\n",
       "    }\n",
       "\n",
       "    .dataframe thead th {\n",
       "        text-align: right;\n",
       "    }\n",
       "</style>\n",
       "<table border=\"1\" class=\"dataframe\">\n",
       "  <thead>\n",
       "    <tr style=\"text-align: right;\">\n",
       "      <th></th>\n",
       "      <th>id</th>\n",
       "      <th>gender</th>\n",
       "      <th>age</th>\n",
       "      <th>hypertension</th>\n",
       "      <th>heart_disease</th>\n",
       "      <th>ever_married</th>\n",
       "      <th>work_type</th>\n",
       "      <th>Residence_type</th>\n",
       "      <th>avg_glucose_level</th>\n",
       "      <th>bmi</th>\n",
       "      <th>smoking_status</th>\n",
       "      <th>stroke</th>\n",
       "    </tr>\n",
       "  </thead>\n",
       "  <tbody>\n",
       "    <tr>\n",
       "      <th>0</th>\n",
       "      <td>9046</td>\n",
       "      <td>Male</td>\n",
       "      <td>67.0</td>\n",
       "      <td>0</td>\n",
       "      <td>1</td>\n",
       "      <td>Yes</td>\n",
       "      <td>Private</td>\n",
       "      <td>Urban</td>\n",
       "      <td>228.69</td>\n",
       "      <td>36.600000</td>\n",
       "      <td>formerly smoked</td>\n",
       "      <td>1</td>\n",
       "    </tr>\n",
       "    <tr>\n",
       "      <th>1</th>\n",
       "      <td>51676</td>\n",
       "      <td>Female</td>\n",
       "      <td>61.0</td>\n",
       "      <td>0</td>\n",
       "      <td>0</td>\n",
       "      <td>Yes</td>\n",
       "      <td>Self-employed</td>\n",
       "      <td>Rural</td>\n",
       "      <td>202.21</td>\n",
       "      <td>28.893237</td>\n",
       "      <td>never smoked</td>\n",
       "      <td>1</td>\n",
       "    </tr>\n",
       "    <tr>\n",
       "      <th>2</th>\n",
       "      <td>31112</td>\n",
       "      <td>Male</td>\n",
       "      <td>80.0</td>\n",
       "      <td>0</td>\n",
       "      <td>1</td>\n",
       "      <td>Yes</td>\n",
       "      <td>Private</td>\n",
       "      <td>Rural</td>\n",
       "      <td>105.92</td>\n",
       "      <td>32.500000</td>\n",
       "      <td>never smoked</td>\n",
       "      <td>1</td>\n",
       "    </tr>\n",
       "    <tr>\n",
       "      <th>3</th>\n",
       "      <td>60182</td>\n",
       "      <td>Female</td>\n",
       "      <td>49.0</td>\n",
       "      <td>0</td>\n",
       "      <td>0</td>\n",
       "      <td>Yes</td>\n",
       "      <td>Private</td>\n",
       "      <td>Urban</td>\n",
       "      <td>171.23</td>\n",
       "      <td>34.400000</td>\n",
       "      <td>smokes</td>\n",
       "      <td>1</td>\n",
       "    </tr>\n",
       "    <tr>\n",
       "      <th>4</th>\n",
       "      <td>1665</td>\n",
       "      <td>Female</td>\n",
       "      <td>79.0</td>\n",
       "      <td>1</td>\n",
       "      <td>0</td>\n",
       "      <td>Yes</td>\n",
       "      <td>Self-employed</td>\n",
       "      <td>Rural</td>\n",
       "      <td>174.12</td>\n",
       "      <td>24.000000</td>\n",
       "      <td>never smoked</td>\n",
       "      <td>1</td>\n",
       "    </tr>\n",
       "  </tbody>\n",
       "</table>\n",
       "</div>"
      ],
      "text/plain": [
       "      id  gender   age  hypertension  heart_disease ever_married  \\\n",
       "0   9046    Male  67.0             0              1          Yes   \n",
       "1  51676  Female  61.0             0              0          Yes   \n",
       "2  31112    Male  80.0             0              1          Yes   \n",
       "3  60182  Female  49.0             0              0          Yes   \n",
       "4   1665  Female  79.0             1              0          Yes   \n",
       "\n",
       "       work_type Residence_type  avg_glucose_level        bmi  \\\n",
       "0        Private          Urban             228.69  36.600000   \n",
       "1  Self-employed          Rural             202.21  28.893237   \n",
       "2        Private          Rural             105.92  32.500000   \n",
       "3        Private          Urban             171.23  34.400000   \n",
       "4  Self-employed          Rural             174.12  24.000000   \n",
       "\n",
       "    smoking_status  stroke  \n",
       "0  formerly smoked       1  \n",
       "1     never smoked       1  \n",
       "2     never smoked       1  \n",
       "3           smokes       1  \n",
       "4     never smoked       1  "
      ]
     },
     "execution_count": 56,
     "metadata": {},
     "output_type": "execute_result"
    }
   ],
   "source": [
    "df.head()"
   ]
  },
  {
   "cell_type": "code",
   "execution_count": 57,
   "id": "4fb19d43",
   "metadata": {},
   "outputs": [
    {
     "data": {
      "text/plain": [
       "{'id': -1.3007509078606258e-05,\n",
       " 'gender': 0.040342157829570034,\n",
       " 'age': 0.0038160871579487987,\n",
       " 'hypertension': 0.002982307390876918,\n",
       " 'heart_disease': 0.0008352960933025619,\n",
       " 'ever_married': -0.16548969266465308,\n",
       " 'work_type': -0.003104732147961488,\n",
       " 'Residence_type': 0.0,\n",
       " 'avg_glucose_level': -0.00014375216552273186,\n",
       " 'bmi': -0.004232926308961399,\n",
       " 'smoking_status': -0.000655021307019641,\n",
       " 'stroke': -0.004606297123272685}"
      ]
     },
     "execution_count": 57,
     "metadata": {},
     "output_type": "execute_result"
    }
   ],
   "source": [
    "# Match coef's of features to columns\n",
    "feature_dict = dict(zip(df.columns, list(clf.coef_[0])))\n",
    "feature_dict"
   ]
  },
  {
   "cell_type": "code",
   "execution_count": 58,
   "id": "0054b20e",
   "metadata": {},
   "outputs": [
    {
     "data": {
      "image/png": "[encoded data removed]",
      "text/plain": [
       "<Figure size 432x288 with 1 Axes>"
      ]
     },
     "metadata": {},
     "output_type": "display_data"
    }
   ],
   "source": [
    "# Visualize feature importance\n",
    "feature_df = pd.DataFrame(feature_dict, index=[0])\n",
    "feature_df.T.plot.bar(title=\"Feature Importance\", legend=False);"
   ]
  },
  {
   "cell_type": "code",
   "execution_count": 59,
   "id": "646bb243",
   "metadata": {},
   "outputs": [
    {
     "data": {
      "text/html": [
       "<div>\n",
       "<style scoped>\n",
       "    .dataframe tbody tr th:only-of-type {\n",
       "        vertical-align: middle;\n",
       "    }\n",
       "\n",
       "    .dataframe tbody tr th {\n",
       "        vertical-align: top;\n",
       "    }\n",
       "\n",
       "    .dataframe thead th {\n",
       "        text-align: right;\n",
       "    }\n",
       "</style>\n",
       "<table border=\"1\" class=\"dataframe\">\n",
       "  <thead>\n",
       "    <tr style=\"text-align: right;\">\n",
       "      <th>stroke</th>\n",
       "      <th>0</th>\n",
       "      <th>1</th>\n",
       "    </tr>\n",
       "    <tr>\n",
       "      <th>gender</th>\n",
       "      <th></th>\n",
       "      <th></th>\n",
       "    </tr>\n",
       "  </thead>\n",
       "  <tbody>\n",
       "    <tr>\n",
       "      <th>Female</th>\n",
       "      <td>2853</td>\n",
       "      <td>141</td>\n",
       "    </tr>\n",
       "    <tr>\n",
       "      <th>Male</th>\n",
       "      <td>2007</td>\n",
       "      <td>108</td>\n",
       "    </tr>\n",
       "    <tr>\n",
       "      <th>Other</th>\n",
       "      <td>1</td>\n",
       "      <td>0</td>\n",
       "    </tr>\n",
       "  </tbody>\n",
       "</table>\n",
       "</div>"
      ],
      "text/plain": [
       "stroke     0    1\n",
       "gender           \n",
       "Female  2853  141\n",
       "Male    2007  108\n",
       "Other      1    0"
      ]
     },
     "execution_count": 59,
     "metadata": {},
     "output_type": "execute_result"
    }
   ],
   "source": [
    "pd.crosstab(df[\"gender\"], df[\"stroke\"])"
   ]
  },
  {
   "cell_type": "code",
   "execution_count": 60,
   "id": "371430f4",
   "metadata": {},
   "outputs": [
    {
     "data": {
      "text/html": [
       "<div>\n",
       "<style scoped>\n",
       "    .dataframe tbody tr th:only-of-type {\n",
       "        vertical-align: middle;\n",
       "    }\n",
       "\n",
       "    .dataframe tbody tr th {\n",
       "        vertical-align: top;\n",
       "    }\n",
       "\n",
       "    .dataframe thead th {\n",
       "        text-align: right;\n",
       "    }\n",
       "</style>\n",
       "<table border=\"1\" class=\"dataframe\">\n",
       "  <thead>\n",
       "    <tr style=\"text-align: right;\">\n",
       "      <th>stroke</th>\n",
       "      <th>0</th>\n",
       "      <th>1</th>\n",
       "    </tr>\n",
       "    <tr>\n",
       "      <th>ever_married</th>\n",
       "      <th></th>\n",
       "      <th></th>\n",
       "    </tr>\n",
       "  </thead>\n",
       "  <tbody>\n",
       "    <tr>\n",
       "      <th>No</th>\n",
       "      <td>1728</td>\n",
       "      <td>29</td>\n",
       "    </tr>\n",
       "    <tr>\n",
       "      <th>Yes</th>\n",
       "      <td>3133</td>\n",
       "      <td>220</td>\n",
       "    </tr>\n",
       "  </tbody>\n",
       "</table>\n",
       "</div>"
      ],
      "text/plain": [
       "stroke           0    1\n",
       "ever_married           \n",
       "No            1728   29\n",
       "Yes           3133  220"
      ]
     },
     "execution_count": 60,
     "metadata": {},
     "output_type": "execute_result"
    }
   ],
   "source": [
    "pd.crosstab(df[\"ever_married\"], df[\"stroke\"])"
   ]
  }
 ],
 "metadata": {
  "kernelspec": {
   "display_name": "Python 3 (ipykernel)",
   "language": "python",
   "name": "python3"
  },
  "language_info": {
   "codemirror_mode": {
    "name": "ipython",
    "version": 3
   },
   "file_extension": ".py",
   "mimetype": "text/x-python",
   "name": "python",
   "nbconvert_exporter": "python",
   "pygments_lexer": "ipython3",
   "version": "3.9.7"
  }
 },
 "nbformat": 4,
 "nbformat_minor": 5
}
